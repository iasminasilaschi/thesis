{
 "cells": [
  {
   "cell_type": "code",
   "execution_count": 3,
   "metadata": {
    "collapsed": true
   },
   "outputs": [
    {
     "name": "stdout",
     "output_type": "stream",
     "text": [
      "Accuracy: 10.83%\n",
      "Precision: 50.12%\n",
      "Recall: 39.41%\n",
      "F1 Score: 4.55%\n",
      "Top-100 Accuracy: 11.48%\n",
      "Top-100 Precision: 11.48%\n",
      "Top-100 Recall: 11.48%\n",
      "Top-100 F1 Score: 11.48%\n"
     ]
    }
   ],
   "source": [
    "import numpy as np\n",
    "\n",
    "# 1. Import necessary libraries and modules\n",
    "import pandas as pd\n",
    "from sklearn.metrics import accuracy_score, precision_score, recall_score, f1_score\n",
    "from sklearn.model_selection import train_test_split\n",
    "from sklearn.tree import DecisionTreeClassifier\n",
    "\n",
    "# 2. Load and preprocess data\n",
    "\n",
    "data = pd.read_csv('data/encoded_data_only_cpv_ohe.csv')\n",
    "X = data.drop('organizationId', axis=1)\n",
    "y = data['organizationId']\n",
    "\n",
    "# 3. Split the data into training and testing sets\n",
    "X_train, X_test, y_train, y_test = train_test_split(X, y, test_size=0.2, random_state=42)\n",
    "\n",
    "# 4. Define the model\n",
    "clf = DecisionTreeClassifier(random_state=42)\n",
    "\n",
    "# 5. Train the model on the training data\n",
    "clf.fit(X_train, y_train)\n",
    "\n",
    "# 6. Evaluate the model on the testing data\n",
    "y_pred = clf.predict(X_test)\n",
    "accuracy = accuracy_score(y_test, y_pred)\n",
    "precision = precision_score(y_test, y_pred, average='macro', zero_division=1)\n",
    "recall = recall_score(y_test, y_pred, average='macro', zero_division=1)\n",
    "f1 = f1_score(y_test, y_pred, average='macro')\n",
    "\n",
    "# 7. Print the performance metrics\n",
    "print(\"Accuracy: {:.2f}%\".format(accuracy * 100))\n",
    "print(\"Precision: {:.2f}%\".format(precision * 100))\n",
    "print(\"Recall: {:.2f}%\".format(recall * 100))\n",
    "print(\"F1 Score: {:.2f}%\".format(f1 * 100))\n",
    "\n",
    "# 6. Evaluate the model on the testing data and predict top N companyId options\n",
    "N = 100 # Number of top predictions to consider\n",
    "y_pred_proba = clf.predict_proba(X_test)\n",
    "y_pred_topN = np.argsort(y_pred_proba, axis=1)[:, :-N-1:-1]\n",
    "y_pred_topN_classes = clf.classes_[y_pred_topN]\n",
    "\n",
    "# Check if actual companyId is among the top N predictions for each data point\n",
    "is_in_topN = np.any(y_test.values.reshape(-1, 1) == y_pred_topN_classes, axis=1)\n",
    "\n",
    "# Compute performance metrics based on whether actual companyId is in the top N predictions\n",
    "accuracy_topN = np.mean(is_in_topN)\n",
    "precision_topN = np.mean([np.any(y_test.values[i] == y_pred_topN_classes[i]) for i in range(len(y_test))])\n",
    "recall_topN = np.mean(is_in_topN)\n",
    "f1_topN = 2 * (precision_topN * recall_topN) / (precision_topN + recall_topN)\n",
    "\n",
    "# 7. Print the performance metrics\n",
    "print(\"Top-{} Accuracy: {:.2f}%\".format(N, accuracy_topN * 100))\n",
    "print(\"Top-{} Precision: {:.2f}%\".format(N, precision_topN * 100))\n",
    "print(\"Top-{} Recall: {:.2f}%\".format(N, recall_topN * 100))\n",
    "print(\"Top-{} F1 Score: {:.2f}%\".format(N, f1_topN * 100))\n"
   ]
  },
  {
   "cell_type": "code",
   "execution_count": 2,
   "outputs": [
    {
     "name": "stdout",
     "output_type": "stream",
     "text": [
      "Accuracy: 12.36%\n",
      "Precision: 54.05%\n",
      "Recall: 36.53%\n",
      "F1 Score: 5.05%\n"
     ]
    }
   ],
   "source": [
    "# 1. Import necessary libraries and modules\n",
    "import pandas as pd\n",
    "from sklearn.metrics import accuracy_score, precision_score, recall_score, f1_score\n",
    "from sklearn.model_selection import train_test_split\n",
    "from sklearn.ensemble import RandomForestClassifier\n",
    "import pickle\n",
    "\n",
    "# 2. Load and preprocess data\n",
    "# data = pd.read_csv('data/processed_data.csv')\n",
    "# data_sample = data.sample(n=5550, random_state=42)\n",
    "# X, y = process_data(data_sample)\n",
    "\n",
    "data = pd.read_csv('data/encoded_data_only_cpv_ohe.csv')\n",
    "# data = data.sample(n=2000, random_state=42)\n",
    "X = data.drop('organizationId', axis=1)\n",
    "y = data['organizationId']\n",
    "\n",
    "# 3. Split the data into training and testing sets\n",
    "X_train, X_test, y_train, y_test = train_test_split(X, y, test_size=0.2, random_state=42)\n",
    "\n",
    "# 4. Define the model\n",
    "clf = RandomForestClassifier(n_estimators=100, random_state=42, max_depth=30)\n",
    "\n",
    "# 5. Train the model on the training data\n",
    "clf.fit(X_train, y_train)\n",
    "\n",
    "# 6. Make predictions on the testing data\n",
    "y_pred = clf.predict(X_test)\n",
    "\n",
    "# 7. Calculate the performance metrics\n",
    "accuracy = accuracy_score(y_test, y_pred)\n",
    "precision = precision_score(y_test, y_pred, average='macro', zero_division=1)\n",
    "recall = recall_score(y_test, y_pred, average='macro', zero_division=1)\n",
    "f1 = f1_score(y_test, y_pred, average='macro')\n",
    "\n",
    "# 8. Print the performance metrics\n",
    "print(\"Accuracy: {:.2f}%\".format(accuracy * 100))\n",
    "print(\"Precision: {:.2f}%\".format(precision * 100))\n",
    "print(\"Recall: {:.2f}%\".format(recall * 100))\n",
    "print(\"F1 Score: {:.2f}%\".format(f1 * 100))\n"
   ],
   "metadata": {
    "collapsed": false
   }
  },
  {
   "cell_type": "code",
   "execution_count": null,
   "outputs": [],
   "source": [],
   "metadata": {
    "collapsed": false
   }
  }
 ],
 "metadata": {
  "kernelspec": {
   "display_name": "Python 3",
   "language": "python",
   "name": "python3"
  },
  "language_info": {
   "codemirror_mode": {
    "name": "ipython",
    "version": 2
   },
   "file_extension": ".py",
   "mimetype": "text/x-python",
   "name": "python",
   "nbconvert_exporter": "python",
   "pygments_lexer": "ipython2",
   "version": "2.7.6"
  }
 },
 "nbformat": 4,
 "nbformat_minor": 0
}
