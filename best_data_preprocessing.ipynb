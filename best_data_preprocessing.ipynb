{
 "cells": [
  {
   "cell_type": "code",
   "execution_count": 6,
   "metadata": {
    "collapsed": true
   },
   "outputs": [],
   "source": [
    "import pandas as pd\n",
    "from sklearn.preprocessing import LabelEncoder\n",
    "\n",
    "data = pd.read_csv('data/full_clean_data.csv')\n",
    "\n",
    "# Split the cpvCode column\n",
    "data['cpv'] = data['cpvCode'].str.split('-', expand=True)[0]\n",
    "data['cpvCategory'] = data['cpv'].str.slice(stop=5)\n",
    "\n",
    "data = data.drop([\n",
    "    'cpv',\n",
    "    'currencyCode',\n",
    "    'cpvCodeType',\n",
    "    'organizationName',\n",
    "], axis=1)\n",
    "\n",
    "# add one-hot encoded columns to the cpvCode categorical data\n",
    "data_encoded = pd.get_dummies(data, columns=['cpvCode'])\n",
    "data = data_encoded\n",
    "\n",
    "# apply Label Encoding to the categorical columns\n",
    "columns_to_encode = [\n",
    "    'noticeNo',\n",
    "    'title',\n",
    "    'publicationDate',\n",
    "    'contractingAuthorityName',\n",
    "    'cpvCodeName',\n",
    "    'cNoticeNo',\n",
    "    'cNoticePublicationDate',\n",
    "    'cNoticeTitle',\n",
    "    'cpvCategory',\n",
    "    'countyCode',\n",
    "]\n",
    "\n",
    "# add label encoding to the other categorical columns\n",
    "label_encoder = LabelEncoder()\n",
    "for col in columns_to_encode:\n",
    "    data[col] = label_encoder.fit_transform(data[col])\n",
    "\n",
    "data.to_csv('data/best_encoded_data.csv', index=False)"
   ]
  },
  {
   "cell_type": "code",
   "execution_count": 7,
   "outputs": [
    {
     "data": {
      "text/plain": "       noticeNo  contractValue  title  publicationDate  countyCode  \\\n0         20022      133657.00  13374            14808          11   \n1         20025      151470.00  11992            14808          32   \n2         20024      850446.00  11063            14808          18   \n3         20020      720948.00  16517            14808          18   \n4         20009       28510.00  10109            14808          17   \n...         ...            ...    ...              ...         ...   \n20022       100      240631.20  11664               45          33   \n20023        62      238200.00  11565               40           3   \n20024        40       65000.00  15129               32          18   \n20025        44      963067.32   2030               30          19   \n20026        32      562000.00  15128               16          18   \n\n       contractingAuthorityName  cpvCodeName  cNoticeNo  \\\n0                           658          620      19983   \n1                          1431           85      19797   \n2                          1423          926      19987   \n3                          1423           47      20023   \n4                          1003          850      19869   \n...                         ...          ...        ...   \n20022                        85          855         74   \n20023                      1448          908        990   \n20024                       497          892        891   \n20025                      1006          824        656   \n20026                       497          892        894   \n\n       cNoticeEstimatedContractValue  cNoticePublicationDate  ...  \\\n0                          153780.00                   15826  ...   \n1                          152340.00                   15633  ...   \n2                          850446.12                   15830  ...   \n3                          720948.00                   15867  ...   \n4                           45000.00                   15719  ...   \n...                              ...                     ...  ...   \n20022                      301539.00                      73  ...   \n20023                      238200.00                     775  ...   \n20024                       65000.00                     702  ...   \n20025                     1801498.00                     553  ...   \n20026                      612000.00                     701  ...   \n\n       cpvCode_98310000-9  cpvCode_98312000-3  cpvCode_98341000-5  \\\n0                       0                   0                   0   \n1                       0                   0                   0   \n2                       0                   0                   0   \n3                       0                   0                   0   \n4                       0                   0                   0   \n...                   ...                 ...                 ...   \n20022                   0                   0                   0   \n20023                   0                   0                   0   \n20024                   0                   0                   0   \n20025                   0                   0                   0   \n20026                   0                   0                   0   \n\n       cpvCode_98341130-5  cpvCode_98351110-2  cpvCode_98363000-5  \\\n0                       0                   0                   0   \n1                       0                   0                   0   \n2                       0                   0                   0   \n3                       0                   0                   0   \n4                       0                   0                   0   \n...                   ...                 ...                 ...   \n20022                   0                   0                   0   \n20023                   0                   0                   0   \n20024                   0                   0                   0   \n20025                   0                   0                   0   \n20026                   0                   0                   0   \n\n       cpvCode_98371120-1  cpvCode_98392000-7  cpvCode_98393000-4  \\\n0                       0                   0                   0   \n1                       0                   0                   0   \n2                       0                   0                   0   \n3                       0                   0                   0   \n4                       0                   0                   0   \n...                   ...                 ...                 ...   \n20022                   0                   0                   0   \n20023                   0                   0                   0   \n20024                   0                   0                   0   \n20025                   0                   0                   0   \n20026                   0                   0                   0   \n\n       cpvCode_98395000-8  \n0                       0  \n1                       0  \n2                       0  \n3                       0  \n4                       0  \n...                   ...  \n20022                   0  \n20023                   0  \n20024                   0  \n20025                   0  \n20026                   0  \n\n[20027 rows x 1121 columns]",
      "text/html": "<div>\n<style scoped>\n    .dataframe tbody tr th:only-of-type {\n        vertical-align: middle;\n    }\n\n    .dataframe tbody tr th {\n        vertical-align: top;\n    }\n\n    .dataframe thead th {\n        text-align: right;\n    }\n</style>\n<table border=\"1\" class=\"dataframe\">\n  <thead>\n    <tr style=\"text-align: right;\">\n      <th></th>\n      <th>noticeNo</th>\n      <th>contractValue</th>\n      <th>title</th>\n      <th>publicationDate</th>\n      <th>countyCode</th>\n      <th>contractingAuthorityName</th>\n      <th>cpvCodeName</th>\n      <th>cNoticeNo</th>\n      <th>cNoticeEstimatedContractValue</th>\n      <th>cNoticePublicationDate</th>\n      <th>...</th>\n      <th>cpvCode_98310000-9</th>\n      <th>cpvCode_98312000-3</th>\n      <th>cpvCode_98341000-5</th>\n      <th>cpvCode_98341130-5</th>\n      <th>cpvCode_98351110-2</th>\n      <th>cpvCode_98363000-5</th>\n      <th>cpvCode_98371120-1</th>\n      <th>cpvCode_98392000-7</th>\n      <th>cpvCode_98393000-4</th>\n      <th>cpvCode_98395000-8</th>\n    </tr>\n  </thead>\n  <tbody>\n    <tr>\n      <th>0</th>\n      <td>20022</td>\n      <td>133657.00</td>\n      <td>13374</td>\n      <td>14808</td>\n      <td>11</td>\n      <td>658</td>\n      <td>620</td>\n      <td>19983</td>\n      <td>153780.00</td>\n      <td>15826</td>\n      <td>...</td>\n      <td>0</td>\n      <td>0</td>\n      <td>0</td>\n      <td>0</td>\n      <td>0</td>\n      <td>0</td>\n      <td>0</td>\n      <td>0</td>\n      <td>0</td>\n      <td>0</td>\n    </tr>\n    <tr>\n      <th>1</th>\n      <td>20025</td>\n      <td>151470.00</td>\n      <td>11992</td>\n      <td>14808</td>\n      <td>32</td>\n      <td>1431</td>\n      <td>85</td>\n      <td>19797</td>\n      <td>152340.00</td>\n      <td>15633</td>\n      <td>...</td>\n      <td>0</td>\n      <td>0</td>\n      <td>0</td>\n      <td>0</td>\n      <td>0</td>\n      <td>0</td>\n      <td>0</td>\n      <td>0</td>\n      <td>0</td>\n      <td>0</td>\n    </tr>\n    <tr>\n      <th>2</th>\n      <td>20024</td>\n      <td>850446.00</td>\n      <td>11063</td>\n      <td>14808</td>\n      <td>18</td>\n      <td>1423</td>\n      <td>926</td>\n      <td>19987</td>\n      <td>850446.12</td>\n      <td>15830</td>\n      <td>...</td>\n      <td>0</td>\n      <td>0</td>\n      <td>0</td>\n      <td>0</td>\n      <td>0</td>\n      <td>0</td>\n      <td>0</td>\n      <td>0</td>\n      <td>0</td>\n      <td>0</td>\n    </tr>\n    <tr>\n      <th>3</th>\n      <td>20020</td>\n      <td>720948.00</td>\n      <td>16517</td>\n      <td>14808</td>\n      <td>18</td>\n      <td>1423</td>\n      <td>47</td>\n      <td>20023</td>\n      <td>720948.00</td>\n      <td>15867</td>\n      <td>...</td>\n      <td>0</td>\n      <td>0</td>\n      <td>0</td>\n      <td>0</td>\n      <td>0</td>\n      <td>0</td>\n      <td>0</td>\n      <td>0</td>\n      <td>0</td>\n      <td>0</td>\n    </tr>\n    <tr>\n      <th>4</th>\n      <td>20009</td>\n      <td>28510.00</td>\n      <td>10109</td>\n      <td>14808</td>\n      <td>17</td>\n      <td>1003</td>\n      <td>850</td>\n      <td>19869</td>\n      <td>45000.00</td>\n      <td>15719</td>\n      <td>...</td>\n      <td>0</td>\n      <td>0</td>\n      <td>0</td>\n      <td>0</td>\n      <td>0</td>\n      <td>0</td>\n      <td>0</td>\n      <td>0</td>\n      <td>0</td>\n      <td>0</td>\n    </tr>\n    <tr>\n      <th>...</th>\n      <td>...</td>\n      <td>...</td>\n      <td>...</td>\n      <td>...</td>\n      <td>...</td>\n      <td>...</td>\n      <td>...</td>\n      <td>...</td>\n      <td>...</td>\n      <td>...</td>\n      <td>...</td>\n      <td>...</td>\n      <td>...</td>\n      <td>...</td>\n      <td>...</td>\n      <td>...</td>\n      <td>...</td>\n      <td>...</td>\n      <td>...</td>\n      <td>...</td>\n      <td>...</td>\n    </tr>\n    <tr>\n      <th>20022</th>\n      <td>100</td>\n      <td>240631.20</td>\n      <td>11664</td>\n      <td>45</td>\n      <td>33</td>\n      <td>85</td>\n      <td>855</td>\n      <td>74</td>\n      <td>301539.00</td>\n      <td>73</td>\n      <td>...</td>\n      <td>0</td>\n      <td>0</td>\n      <td>0</td>\n      <td>0</td>\n      <td>0</td>\n      <td>0</td>\n      <td>0</td>\n      <td>0</td>\n      <td>0</td>\n      <td>0</td>\n    </tr>\n    <tr>\n      <th>20023</th>\n      <td>62</td>\n      <td>238200.00</td>\n      <td>11565</td>\n      <td>40</td>\n      <td>3</td>\n      <td>1448</td>\n      <td>908</td>\n      <td>990</td>\n      <td>238200.00</td>\n      <td>775</td>\n      <td>...</td>\n      <td>0</td>\n      <td>0</td>\n      <td>0</td>\n      <td>0</td>\n      <td>0</td>\n      <td>0</td>\n      <td>0</td>\n      <td>0</td>\n      <td>0</td>\n      <td>0</td>\n    </tr>\n    <tr>\n      <th>20024</th>\n      <td>40</td>\n      <td>65000.00</td>\n      <td>15129</td>\n      <td>32</td>\n      <td>18</td>\n      <td>497</td>\n      <td>892</td>\n      <td>891</td>\n      <td>65000.00</td>\n      <td>702</td>\n      <td>...</td>\n      <td>0</td>\n      <td>0</td>\n      <td>0</td>\n      <td>0</td>\n      <td>0</td>\n      <td>0</td>\n      <td>0</td>\n      <td>0</td>\n      <td>0</td>\n      <td>0</td>\n    </tr>\n    <tr>\n      <th>20025</th>\n      <td>44</td>\n      <td>963067.32</td>\n      <td>2030</td>\n      <td>30</td>\n      <td>19</td>\n      <td>1006</td>\n      <td>824</td>\n      <td>656</td>\n      <td>1801498.00</td>\n      <td>553</td>\n      <td>...</td>\n      <td>0</td>\n      <td>0</td>\n      <td>0</td>\n      <td>0</td>\n      <td>0</td>\n      <td>0</td>\n      <td>0</td>\n      <td>0</td>\n      <td>0</td>\n      <td>0</td>\n    </tr>\n    <tr>\n      <th>20026</th>\n      <td>32</td>\n      <td>562000.00</td>\n      <td>15128</td>\n      <td>16</td>\n      <td>18</td>\n      <td>497</td>\n      <td>892</td>\n      <td>894</td>\n      <td>612000.00</td>\n      <td>701</td>\n      <td>...</td>\n      <td>0</td>\n      <td>0</td>\n      <td>0</td>\n      <td>0</td>\n      <td>0</td>\n      <td>0</td>\n      <td>0</td>\n      <td>0</td>\n      <td>0</td>\n      <td>0</td>\n    </tr>\n  </tbody>\n</table>\n<p>20027 rows × 1121 columns</p>\n</div>"
     },
     "execution_count": 7,
     "metadata": {},
     "output_type": "execute_result"
    }
   ],
   "source": [
    "data = pd.read_csv('data/best_encoded_data.csv')\n",
    "data"
   ],
   "metadata": {
    "collapsed": false
   }
  },
  {
   "cell_type": "code",
   "execution_count": 2,
   "outputs": [
    {
     "data": {
      "text/plain": "       noticeNo  contractValue  title  publicationDate  countyCode  \\\n0         20022      133657.00  13374            14808          11   \n1         20025      151470.00  11992            14808          32   \n2         20024      850446.00  11063            14808          18   \n3         20020      720948.00  16517            14808          18   \n4         20009       28510.00  10109            14808          17   \n...         ...            ...    ...              ...         ...   \n20022       100      240631.20  11664               45          33   \n20023        62      238200.00  11565               40           3   \n20024        40       65000.00  15129               32          18   \n20025        44      963067.32   2030               30          19   \n20026        32      562000.00  15128               16          18   \n\n       contractingAuthorityName  cpvCodeName  cpvCode  cNoticeNo  \\\n0                           658          620     1067      19983   \n1                          1431           85      305      19797   \n2                          1423          926      405      19987   \n3                          1423           47      540      20023   \n4                          1003          850      828      19869   \n...                         ...          ...      ...        ...   \n20022                        85          855      684         74   \n20023                      1448          908      465        990   \n20024                       497          892      384        891   \n20025                      1006          824      957        656   \n20026                       497          892      384        894   \n\n       cNoticeEstimatedContractValue  cNoticePublicationDate  cNoticeTitle  \\\n0                          153780.00                   15826         13055   \n1                          152340.00                   15633         11500   \n2                          850446.12                   15830         10024   \n3                          720948.00                   15867           419   \n4                           45000.00                   15719          9513   \n...                              ...                     ...           ...   \n20022                      301539.00                      73         11141   \n20023                      238200.00                     775         11021   \n20024                       65000.00                     702         14989   \n20025                     1801498.00                     553          2127   \n20026                      612000.00                     701         14988   \n\n       organizationId  cpvCategory  \n0               91285          549  \n1              239573           38  \n2              287074           85  \n3              292011          180  \n4              293608          363  \n...               ...          ...  \n20022           77258          285  \n20023            1063          119  \n20024           61650           76  \n20025           77200          466  \n20026           77189           76  \n\n[20027 rows x 14 columns]",
      "text/html": "<div>\n<style scoped>\n    .dataframe tbody tr th:only-of-type {\n        vertical-align: middle;\n    }\n\n    .dataframe tbody tr th {\n        vertical-align: top;\n    }\n\n    .dataframe thead th {\n        text-align: right;\n    }\n</style>\n<table border=\"1\" class=\"dataframe\">\n  <thead>\n    <tr style=\"text-align: right;\">\n      <th></th>\n      <th>noticeNo</th>\n      <th>contractValue</th>\n      <th>title</th>\n      <th>publicationDate</th>\n      <th>countyCode</th>\n      <th>contractingAuthorityName</th>\n      <th>cpvCodeName</th>\n      <th>cpvCode</th>\n      <th>cNoticeNo</th>\n      <th>cNoticeEstimatedContractValue</th>\n      <th>cNoticePublicationDate</th>\n      <th>cNoticeTitle</th>\n      <th>organizationId</th>\n      <th>cpvCategory</th>\n    </tr>\n  </thead>\n  <tbody>\n    <tr>\n      <th>0</th>\n      <td>20022</td>\n      <td>133657.00</td>\n      <td>13374</td>\n      <td>14808</td>\n      <td>11</td>\n      <td>658</td>\n      <td>620</td>\n      <td>1067</td>\n      <td>19983</td>\n      <td>153780.00</td>\n      <td>15826</td>\n      <td>13055</td>\n      <td>91285</td>\n      <td>549</td>\n    </tr>\n    <tr>\n      <th>1</th>\n      <td>20025</td>\n      <td>151470.00</td>\n      <td>11992</td>\n      <td>14808</td>\n      <td>32</td>\n      <td>1431</td>\n      <td>85</td>\n      <td>305</td>\n      <td>19797</td>\n      <td>152340.00</td>\n      <td>15633</td>\n      <td>11500</td>\n      <td>239573</td>\n      <td>38</td>\n    </tr>\n    <tr>\n      <th>2</th>\n      <td>20024</td>\n      <td>850446.00</td>\n      <td>11063</td>\n      <td>14808</td>\n      <td>18</td>\n      <td>1423</td>\n      <td>926</td>\n      <td>405</td>\n      <td>19987</td>\n      <td>850446.12</td>\n      <td>15830</td>\n      <td>10024</td>\n      <td>287074</td>\n      <td>85</td>\n    </tr>\n    <tr>\n      <th>3</th>\n      <td>20020</td>\n      <td>720948.00</td>\n      <td>16517</td>\n      <td>14808</td>\n      <td>18</td>\n      <td>1423</td>\n      <td>47</td>\n      <td>540</td>\n      <td>20023</td>\n      <td>720948.00</td>\n      <td>15867</td>\n      <td>419</td>\n      <td>292011</td>\n      <td>180</td>\n    </tr>\n    <tr>\n      <th>4</th>\n      <td>20009</td>\n      <td>28510.00</td>\n      <td>10109</td>\n      <td>14808</td>\n      <td>17</td>\n      <td>1003</td>\n      <td>850</td>\n      <td>828</td>\n      <td>19869</td>\n      <td>45000.00</td>\n      <td>15719</td>\n      <td>9513</td>\n      <td>293608</td>\n      <td>363</td>\n    </tr>\n    <tr>\n      <th>...</th>\n      <td>...</td>\n      <td>...</td>\n      <td>...</td>\n      <td>...</td>\n      <td>...</td>\n      <td>...</td>\n      <td>...</td>\n      <td>...</td>\n      <td>...</td>\n      <td>...</td>\n      <td>...</td>\n      <td>...</td>\n      <td>...</td>\n      <td>...</td>\n    </tr>\n    <tr>\n      <th>20022</th>\n      <td>100</td>\n      <td>240631.20</td>\n      <td>11664</td>\n      <td>45</td>\n      <td>33</td>\n      <td>85</td>\n      <td>855</td>\n      <td>684</td>\n      <td>74</td>\n      <td>301539.00</td>\n      <td>73</td>\n      <td>11141</td>\n      <td>77258</td>\n      <td>285</td>\n    </tr>\n    <tr>\n      <th>20023</th>\n      <td>62</td>\n      <td>238200.00</td>\n      <td>11565</td>\n      <td>40</td>\n      <td>3</td>\n      <td>1448</td>\n      <td>908</td>\n      <td>465</td>\n      <td>990</td>\n      <td>238200.00</td>\n      <td>775</td>\n      <td>11021</td>\n      <td>1063</td>\n      <td>119</td>\n    </tr>\n    <tr>\n      <th>20024</th>\n      <td>40</td>\n      <td>65000.00</td>\n      <td>15129</td>\n      <td>32</td>\n      <td>18</td>\n      <td>497</td>\n      <td>892</td>\n      <td>384</td>\n      <td>891</td>\n      <td>65000.00</td>\n      <td>702</td>\n      <td>14989</td>\n      <td>61650</td>\n      <td>76</td>\n    </tr>\n    <tr>\n      <th>20025</th>\n      <td>44</td>\n      <td>963067.32</td>\n      <td>2030</td>\n      <td>30</td>\n      <td>19</td>\n      <td>1006</td>\n      <td>824</td>\n      <td>957</td>\n      <td>656</td>\n      <td>1801498.00</td>\n      <td>553</td>\n      <td>2127</td>\n      <td>77200</td>\n      <td>466</td>\n    </tr>\n    <tr>\n      <th>20026</th>\n      <td>32</td>\n      <td>562000.00</td>\n      <td>15128</td>\n      <td>16</td>\n      <td>18</td>\n      <td>497</td>\n      <td>892</td>\n      <td>384</td>\n      <td>894</td>\n      <td>612000.00</td>\n      <td>701</td>\n      <td>14988</td>\n      <td>77189</td>\n      <td>76</td>\n    </tr>\n  </tbody>\n</table>\n<p>20027 rows × 14 columns</p>\n</div>"
     },
     "execution_count": 2,
     "metadata": {},
     "output_type": "execute_result"
    }
   ],
   "source": [
    "import pandas as pd\n",
    "from sklearn.preprocessing import LabelEncoder\n",
    "\n",
    "data = pd.read_csv('data/full_clean_data.csv')\n",
    "\n",
    "# Split the cpvCode column\n",
    "data['cpv'] = data['cpvCode'].str.split('-', expand=True)[0]\n",
    "data['cpvCategory'] = data['cpv'].str.slice(stop=5)\n",
    "\n",
    "data = data.drop([\n",
    "    'cpv',\n",
    "    'currencyCode',\n",
    "    'cpvCodeType',\n",
    "    'organizationName',\n",
    "], axis=1)\n",
    "\n",
    "# apply Label Encoding to the categorical columns\n",
    "columns_to_encode = [\n",
    "    'cpvCode',\n",
    "    'noticeNo',\n",
    "    'title',\n",
    "    'publicationDate',\n",
    "    'contractingAuthorityName',\n",
    "    'cpvCodeName',\n",
    "    'cNoticeNo',\n",
    "    'cNoticePublicationDate',\n",
    "    'cNoticeTitle',\n",
    "    'cpvCategory',\n",
    "    'countyCode',\n",
    "]\n",
    "\n",
    "# add label encoding to the other categorical columns\n",
    "label_encoder = LabelEncoder()\n",
    "for col in columns_to_encode:\n",
    "    data[col] = label_encoder.fit_transform(data[col])\n",
    "\n",
    "data.to_csv('data/label_encoded_data.csv', index=False)\n",
    "\n",
    "data"
   ],
   "metadata": {
    "collapsed": false
   }
  },
  {
   "cell_type": "code",
   "execution_count": null,
   "outputs": [],
   "source": [],
   "metadata": {
    "collapsed": false
   }
  }
 ],
 "metadata": {
  "kernelspec": {
   "display_name": "Python 3",
   "language": "python",
   "name": "python3"
  },
  "language_info": {
   "codemirror_mode": {
    "name": "ipython",
    "version": 2
   },
   "file_extension": ".py",
   "mimetype": "text/x-python",
   "name": "python",
   "nbconvert_exporter": "python",
   "pygments_lexer": "ipython2",
   "version": "2.7.6"
  }
 },
 "nbformat": 4,
 "nbformat_minor": 0
}
