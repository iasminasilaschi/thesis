{
 "cells": [
  {
   "cell_type": "code",
   "execution_count": 4,
   "metadata": {
    "collapsed": true
   },
   "outputs": [
    {
     "data": {
      "text/plain": "          cpvCode  organizationId\n0      90910000-9           91285\n1      45262640-9          239573\n2      50221000-0          287074\n3      60170000-0          292011\n4      72413000-8          293608\n...           ...             ...\n24616  71322000-1           77258\n24617  50421000-2            1063\n24618  50112000-3           61650\n24619  79713000-5           77200\n24620  50112000-3           77189\n\n[24621 rows x 2 columns]",
      "text/html": "<div>\n<style scoped>\n    .dataframe tbody tr th:only-of-type {\n        vertical-align: middle;\n    }\n\n    .dataframe tbody tr th {\n        vertical-align: top;\n    }\n\n    .dataframe thead th {\n        text-align: right;\n    }\n</style>\n<table border=\"1\" class=\"dataframe\">\n  <thead>\n    <tr style=\"text-align: right;\">\n      <th></th>\n      <th>cpvCode</th>\n      <th>organizationId</th>\n    </tr>\n  </thead>\n  <tbody>\n    <tr>\n      <th>0</th>\n      <td>90910000-9</td>\n      <td>91285</td>\n    </tr>\n    <tr>\n      <th>1</th>\n      <td>45262640-9</td>\n      <td>239573</td>\n    </tr>\n    <tr>\n      <th>2</th>\n      <td>50221000-0</td>\n      <td>287074</td>\n    </tr>\n    <tr>\n      <th>3</th>\n      <td>60170000-0</td>\n      <td>292011</td>\n    </tr>\n    <tr>\n      <th>4</th>\n      <td>72413000-8</td>\n      <td>293608</td>\n    </tr>\n    <tr>\n      <th>...</th>\n      <td>...</td>\n      <td>...</td>\n    </tr>\n    <tr>\n      <th>24616</th>\n      <td>71322000-1</td>\n      <td>77258</td>\n    </tr>\n    <tr>\n      <th>24617</th>\n      <td>50421000-2</td>\n      <td>1063</td>\n    </tr>\n    <tr>\n      <th>24618</th>\n      <td>50112000-3</td>\n      <td>61650</td>\n    </tr>\n    <tr>\n      <th>24619</th>\n      <td>79713000-5</td>\n      <td>77200</td>\n    </tr>\n    <tr>\n      <th>24620</th>\n      <td>50112000-3</td>\n      <td>77189</td>\n    </tr>\n  </tbody>\n</table>\n<p>24621 rows × 2 columns</p>\n</div>"
     },
     "execution_count": 4,
     "metadata": {},
     "output_type": "execute_result"
    }
   ],
   "source": [
    "import pandas as pd\n",
    "\n",
    "data = pd.read_csv('data/processed_data.csv')\n",
    "\n",
    "# Drop irrelevant columns\n",
    "data.drop(['index',\n",
    "           'noticeNo',\n",
    "           'title',\n",
    "           'countyCode',\n",
    "           'contractValue',\n",
    "           'cpvCodeType',\n",
    "           'cNoticeEstimatedContractValue',\n",
    "           'currencyCode',\n",
    "           'publicationDate',\n",
    "           'contractingAuthorityName',\n",
    "           'cpvCodeName',\n",
    "           'cNoticeNo',\n",
    "           'cNoticePublicationDate',\n",
    "           'cNoticeTitle',\n",
    "           'organizationName'],\n",
    "          axis=1, inplace=True)\n",
    "\n",
    "data"
   ]
  },
  {
   "cell_type": "code",
   "execution_count": 5,
   "outputs": [
    {
     "data": {
      "text/plain": "       organizationId  cpv_45000000-7  cpv_45100000-8  cpv_45110000-1  \\\n0               91285               0               0               0   \n1              239573               0               0               0   \n2              287074               0               0               0   \n3              292011               0               0               0   \n4              293608               0               0               0   \n...               ...             ...             ...             ...   \n24616           77258               0               0               0   \n24617            1063               0               0               0   \n24618           61650               0               0               0   \n24619           77200               0               0               0   \n24620           77189               0               0               0   \n\n       cpv_45111000-8  cpv_45111100-9  cpv_45111220-6  cpv_45111230-9  \\\n0                   0               0               0               0   \n1                   0               0               0               0   \n2                   0               0               0               0   \n3                   0               0               0               0   \n4                   0               0               0               0   \n...               ...             ...             ...             ...   \n24616               0               0               0               0   \n24617               0               0               0               0   \n24618               0               0               0               0   \n24619               0               0               0               0   \n24620               0               0               0               0   \n\n       cpv_45111260-8  cpv_45111290-7  ...  cpv_98341130-5  cpv_98341140-8  \\\n0                   0               0  ...               0               0   \n1                   0               0  ...               0               0   \n2                   0               0  ...               0               0   \n3                   0               0  ...               0               0   \n4                   0               0  ...               0               0   \n...               ...             ...  ...             ...             ...   \n24616               0               0  ...               0               0   \n24617               0               0  ...               0               0   \n24618               0               0  ...               0               0   \n24619               0               0  ...               0               0   \n24620               0               0  ...               0               0   \n\n       cpv_98351110-2  cpv_98363000-5  cpv_98371111-5  cpv_98371120-1  \\\n0                   0               0               0               0   \n1                   0               0               0               0   \n2                   0               0               0               0   \n3                   0               0               0               0   \n4                   0               0               0               0   \n...               ...             ...             ...             ...   \n24616               0               0               0               0   \n24617               0               0               0               0   \n24618               0               0               0               0   \n24619               0               0               0               0   \n24620               0               0               0               0   \n\n       cpv_98390000-3  cpv_98392000-7  cpv_98393000-4  cpv_98395000-8  \n0                   0               0               0               0  \n1                   0               0               0               0  \n2                   0               0               0               0  \n3                   0               0               0               0  \n4                   0               0               0               0  \n...               ...             ...             ...             ...  \n24616               0               0               0               0  \n24617               0               0               0               0  \n24618               0               0               0               0  \n24619               0               0               0               0  \n24620               0               0               0               0  \n\n[24621 rows x 1205 columns]",
      "text/html": "<div>\n<style scoped>\n    .dataframe tbody tr th:only-of-type {\n        vertical-align: middle;\n    }\n\n    .dataframe tbody tr th {\n        vertical-align: top;\n    }\n\n    .dataframe thead th {\n        text-align: right;\n    }\n</style>\n<table border=\"1\" class=\"dataframe\">\n  <thead>\n    <tr style=\"text-align: right;\">\n      <th></th>\n      <th>organizationId</th>\n      <th>cpv_45000000-7</th>\n      <th>cpv_45100000-8</th>\n      <th>cpv_45110000-1</th>\n      <th>cpv_45111000-8</th>\n      <th>cpv_45111100-9</th>\n      <th>cpv_45111220-6</th>\n      <th>cpv_45111230-9</th>\n      <th>cpv_45111260-8</th>\n      <th>cpv_45111290-7</th>\n      <th>...</th>\n      <th>cpv_98341130-5</th>\n      <th>cpv_98341140-8</th>\n      <th>cpv_98351110-2</th>\n      <th>cpv_98363000-5</th>\n      <th>cpv_98371111-5</th>\n      <th>cpv_98371120-1</th>\n      <th>cpv_98390000-3</th>\n      <th>cpv_98392000-7</th>\n      <th>cpv_98393000-4</th>\n      <th>cpv_98395000-8</th>\n    </tr>\n  </thead>\n  <tbody>\n    <tr>\n      <th>0</th>\n      <td>91285</td>\n      <td>0</td>\n      <td>0</td>\n      <td>0</td>\n      <td>0</td>\n      <td>0</td>\n      <td>0</td>\n      <td>0</td>\n      <td>0</td>\n      <td>0</td>\n      <td>...</td>\n      <td>0</td>\n      <td>0</td>\n      <td>0</td>\n      <td>0</td>\n      <td>0</td>\n      <td>0</td>\n      <td>0</td>\n      <td>0</td>\n      <td>0</td>\n      <td>0</td>\n    </tr>\n    <tr>\n      <th>1</th>\n      <td>239573</td>\n      <td>0</td>\n      <td>0</td>\n      <td>0</td>\n      <td>0</td>\n      <td>0</td>\n      <td>0</td>\n      <td>0</td>\n      <td>0</td>\n      <td>0</td>\n      <td>...</td>\n      <td>0</td>\n      <td>0</td>\n      <td>0</td>\n      <td>0</td>\n      <td>0</td>\n      <td>0</td>\n      <td>0</td>\n      <td>0</td>\n      <td>0</td>\n      <td>0</td>\n    </tr>\n    <tr>\n      <th>2</th>\n      <td>287074</td>\n      <td>0</td>\n      <td>0</td>\n      <td>0</td>\n      <td>0</td>\n      <td>0</td>\n      <td>0</td>\n      <td>0</td>\n      <td>0</td>\n      <td>0</td>\n      <td>...</td>\n      <td>0</td>\n      <td>0</td>\n      <td>0</td>\n      <td>0</td>\n      <td>0</td>\n      <td>0</td>\n      <td>0</td>\n      <td>0</td>\n      <td>0</td>\n      <td>0</td>\n    </tr>\n    <tr>\n      <th>3</th>\n      <td>292011</td>\n      <td>0</td>\n      <td>0</td>\n      <td>0</td>\n      <td>0</td>\n      <td>0</td>\n      <td>0</td>\n      <td>0</td>\n      <td>0</td>\n      <td>0</td>\n      <td>...</td>\n      <td>0</td>\n      <td>0</td>\n      <td>0</td>\n      <td>0</td>\n      <td>0</td>\n      <td>0</td>\n      <td>0</td>\n      <td>0</td>\n      <td>0</td>\n      <td>0</td>\n    </tr>\n    <tr>\n      <th>4</th>\n      <td>293608</td>\n      <td>0</td>\n      <td>0</td>\n      <td>0</td>\n      <td>0</td>\n      <td>0</td>\n      <td>0</td>\n      <td>0</td>\n      <td>0</td>\n      <td>0</td>\n      <td>...</td>\n      <td>0</td>\n      <td>0</td>\n      <td>0</td>\n      <td>0</td>\n      <td>0</td>\n      <td>0</td>\n      <td>0</td>\n      <td>0</td>\n      <td>0</td>\n      <td>0</td>\n    </tr>\n    <tr>\n      <th>...</th>\n      <td>...</td>\n      <td>...</td>\n      <td>...</td>\n      <td>...</td>\n      <td>...</td>\n      <td>...</td>\n      <td>...</td>\n      <td>...</td>\n      <td>...</td>\n      <td>...</td>\n      <td>...</td>\n      <td>...</td>\n      <td>...</td>\n      <td>...</td>\n      <td>...</td>\n      <td>...</td>\n      <td>...</td>\n      <td>...</td>\n      <td>...</td>\n      <td>...</td>\n      <td>...</td>\n    </tr>\n    <tr>\n      <th>24616</th>\n      <td>77258</td>\n      <td>0</td>\n      <td>0</td>\n      <td>0</td>\n      <td>0</td>\n      <td>0</td>\n      <td>0</td>\n      <td>0</td>\n      <td>0</td>\n      <td>0</td>\n      <td>...</td>\n      <td>0</td>\n      <td>0</td>\n      <td>0</td>\n      <td>0</td>\n      <td>0</td>\n      <td>0</td>\n      <td>0</td>\n      <td>0</td>\n      <td>0</td>\n      <td>0</td>\n    </tr>\n    <tr>\n      <th>24617</th>\n      <td>1063</td>\n      <td>0</td>\n      <td>0</td>\n      <td>0</td>\n      <td>0</td>\n      <td>0</td>\n      <td>0</td>\n      <td>0</td>\n      <td>0</td>\n      <td>0</td>\n      <td>...</td>\n      <td>0</td>\n      <td>0</td>\n      <td>0</td>\n      <td>0</td>\n      <td>0</td>\n      <td>0</td>\n      <td>0</td>\n      <td>0</td>\n      <td>0</td>\n      <td>0</td>\n    </tr>\n    <tr>\n      <th>24618</th>\n      <td>61650</td>\n      <td>0</td>\n      <td>0</td>\n      <td>0</td>\n      <td>0</td>\n      <td>0</td>\n      <td>0</td>\n      <td>0</td>\n      <td>0</td>\n      <td>0</td>\n      <td>...</td>\n      <td>0</td>\n      <td>0</td>\n      <td>0</td>\n      <td>0</td>\n      <td>0</td>\n      <td>0</td>\n      <td>0</td>\n      <td>0</td>\n      <td>0</td>\n      <td>0</td>\n    </tr>\n    <tr>\n      <th>24619</th>\n      <td>77200</td>\n      <td>0</td>\n      <td>0</td>\n      <td>0</td>\n      <td>0</td>\n      <td>0</td>\n      <td>0</td>\n      <td>0</td>\n      <td>0</td>\n      <td>0</td>\n      <td>...</td>\n      <td>0</td>\n      <td>0</td>\n      <td>0</td>\n      <td>0</td>\n      <td>0</td>\n      <td>0</td>\n      <td>0</td>\n      <td>0</td>\n      <td>0</td>\n      <td>0</td>\n    </tr>\n    <tr>\n      <th>24620</th>\n      <td>77189</td>\n      <td>0</td>\n      <td>0</td>\n      <td>0</td>\n      <td>0</td>\n      <td>0</td>\n      <td>0</td>\n      <td>0</td>\n      <td>0</td>\n      <td>0</td>\n      <td>...</td>\n      <td>0</td>\n      <td>0</td>\n      <td>0</td>\n      <td>0</td>\n      <td>0</td>\n      <td>0</td>\n      <td>0</td>\n      <td>0</td>\n      <td>0</td>\n      <td>0</td>\n    </tr>\n  </tbody>\n</table>\n<p>24621 rows × 1205 columns</p>\n</div>"
     },
     "execution_count": 5,
     "metadata": {},
     "output_type": "execute_result"
    }
   ],
   "source": [
    "cpv_dummies = pd.get_dummies(data['cpvCode'], prefix='cpv')\n",
    "\n",
    "# Concatenate the original data frame with the one-hot encoded columns\n",
    "data = pd.concat([data, cpv_dummies], axis=1)\n",
    "\n",
    "# Drop the original cpvCode, cpvCategory, and cpvSubcategory columns\n",
    "data.drop(['cpvCode'], axis=1, inplace=True)\n",
    "\n",
    "data"
   ],
   "metadata": {
    "collapsed": false
   }
  },
  {
   "cell_type": "code",
   "execution_count": null,
   "outputs": [],
   "source": [],
   "metadata": {
    "collapsed": false
   }
  }
 ],
 "metadata": {
  "kernelspec": {
   "display_name": "Python 3",
   "language": "python",
   "name": "python3"
  },
  "language_info": {
   "codemirror_mode": {
    "name": "ipython",
    "version": 2
   },
   "file_extension": ".py",
   "mimetype": "text/x-python",
   "name": "python",
   "nbconvert_exporter": "python",
   "pygments_lexer": "ipython2",
   "version": "2.7.6"
  }
 },
 "nbformat": 4,
 "nbformat_minor": 0
}
