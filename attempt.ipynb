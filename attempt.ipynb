{
 "cells": [
  {
   "cell_type": "code",
   "execution_count": 4,
   "metadata": {
    "collapsed": true
   },
   "outputs": [
    {
     "name": "stderr",
     "output_type": "stream",
     "text": [
      "C:\\Users\\Iasmina\\AppData\\Local\\Temp\\ipykernel_3092\\3826956233.py:26: FutureWarning: The frame.append method is deprecated and will be removed from pandas in a future version. Use pandas.concat instead.\n",
      "  new_data = data.append(new_rows, ignore_index=True)\n"
     ]
    },
    {
     "data": {
      "text/plain": "       noticeNo  contractValue  \\\n0       1063564      133657.00   \n1       1063609      151470.00   \n2       1063604      850446.00   \n3       1063546      720948.00   \n4       1063262       28510.00   \n...         ...            ...   \n42394    104130      238200.00   \n42395    104114       10890.50   \n42396    103990       65000.00   \n42397    104022      963067.32   \n42398    103938      562000.00   \n\n                                                   title currencyCode  \\\n0      Servicii de curatenie pentru sediile administr...          RON   \n1      SISTEM COLECTARE APE DE LA SIFON TRASEU COLECT...          RON   \n2      Reparaţii accidentale locomotive LDE 2100/1250...          RON   \n3      Serviciu transport personal - SE Isalnita:\\na)...          RON   \n4      Realizare şi implementare sistem de colectare ...          RON   \n...                                                  ...          ...   \n42394  SERVICII DE INTRETINERE, REPARATII SI SERVICE ...          RON   \n42395         Contract de servicii - prestatii artistice          EUR   \n42396  Servicii de reparare si intretinere a automobi...          RON   \n42397  Asigurarea serviciilor de paza pentru obiectiv...          RON   \n42398  Servicii de reparare si intretinere a automobi...          RON   \n\n           publicationDate countyCode  \\\n0      2021-09-30 00:00:00         CJ   \n1      2021-09-30 00:00:00         SB   \n2      2021-09-30 00:00:00         GJ   \n3      2021-09-30 00:00:00         GJ   \n4      2021-09-30 00:00:00         DJ   \n...                    ...        ...   \n42394  2011-03-22 16:36:00          B   \n42395  2011-03-22 16:15:00         SV   \n42396  2011-03-22 14:02:00         GJ   \n42397  2011-03-22 01:30:00         GL   \n42398  2011-03-17 16:57:00         GJ   \n\n                                contractingAuthorityName  \\\n0             DISTRIBUȚIE ENERGIE ELECTRICĂ ROMANIA S.A.   \n1      Societatea Nationala de Gaze Naturale Romgaz S.A.   \n2              Societatea COMPLEXUL ENERGETIC OLTENIA SA   \n3              Societatea COMPLEXUL ENERGETIC OLTENIA SA   \n4                                     Municipiul Craiova   \n...                                                  ...   \n42394         Spitalul Clinic de Urgenta Bagdasar-Arseni   \n42395                                   MUZEUL BUCOVINEI   \n42396                   Complexul Energetic Turceni S.A.   \n42397                                  Municipiul Galati   \n42398                   Complexul Energetic Turceni S.A.   \n\n                                             cpvCodeName     cpvCode  \\\n0                          Servicii de curatenie (Rev.2)  90910000-9   \n1               Lucrari de ameliorare a mediului (Rev.2)  45262640-9   \n2      Servicii de reparare si de intretinere a locom...  50221000-0   \n3      Inchiriere de vehicule de transport de persoan...  60170000-0   \n4      Servicii de proiectare de site-uri WWW (World ...  72413000-8   \n...                                                  ...         ...   \n42394  Servicii de reparare si de intretinere a echip...  50421000-2   \n42395  Servicii de divertisment prestate de producato...  92312100-2   \n42396  Servicii de reparare si de intretinere a autom...  50112000-3   \n42397                           Servicii de paza (Rev.2)  79713000-5   \n42398  Servicii de reparare si de intretinere a autom...  50112000-3   \n\n       cpvCodeType  cNoticeNo  cNoticeEstimatedContractValue  \\\n0                3  1032467.0                      153780.00   \n1                2  1030406.0                      152340.00   \n2                3  1032497.0                      850446.12   \n3                3  1033885.0                      720948.00   \n4                3  1031039.0                       45000.00   \n...            ...        ...                            ...   \n42394            3   114708.0                      238200.00   \n42395            3        NaN                            NaN   \n42396            3   113996.0                       65000.00   \n42397            3   112746.0                     1801498.00   \n42398            3   114032.0                      612000.00   \n\n      cNoticePublicationDate  \\\n0        2021-06-29 11:57:15   \n1        2021-04-20 09:04:29   \n2        2021-06-30 09:23:43   \n3        2021-08-13 08:32:44   \n4        2021-05-18 01:37:51   \n...                      ...   \n42394    2011-01-27 15:49:00   \n42395                    NaN   \n42396    2011-01-13 15:43:00   \n42397    2010-12-11 01:30:00   \n42398    2011-01-13 15:12:00   \n\n                                            cNoticeTitle  \\\n0      Servicii de curățenie la sediile administrativ...   \n1      SISTEM COLECTARE APE DE LA SIFON TRASEU COLECT...   \n2      Reparatii accidentale locomotive LDE 2100/1250...   \n3      ,,Serviciu transport personal - SE Isalnita:\\n...   \n4      Realizare şi implementare sistem de colectare ...   \n...                                                  ...   \n42394  SERVICII DE INTRETINERE, REPARATII SI SERVICE ...   \n42395                                                NaN   \n42396  Servicii de reparare si intretinere a automobi...   \n42397  Asigurarea serviciilor de paza pentru obiectiv...   \n42398  Servicii de reparare si intretinere a automobi...   \n\n                      organizationName  organizationId  \n0                 DEZINFER SERVICE SRL           91285  \n1      UTILITAR FLUID CONSTRUCT S.R.L.          239573  \n2                   CONSTRONIC MAE SRL          287074  \n3                           R.A.T. SRL          292011  \n4                    WEB WIN GROUP NET          293608  \n...                                ...             ...  \n42394              Sterisystems S.R.L.            1063  \n42395   SC MUSIC MANAGEMENT AGENCY SRL           77214  \n42396   S.C. SERVICE AUTOMOBILE S.R.L.           61650  \n42397           SC ALFARO SECURITY SRL           77200  \n42398  S.C. SERVICE AUTOMOBILE  S.R.L.           77189  \n\n[42399 rows x 16 columns]",
      "text/html": "<div>\n<style scoped>\n    .dataframe tbody tr th:only-of-type {\n        vertical-align: middle;\n    }\n\n    .dataframe tbody tr th {\n        vertical-align: top;\n    }\n\n    .dataframe thead th {\n        text-align: right;\n    }\n</style>\n<table border=\"1\" class=\"dataframe\">\n  <thead>\n    <tr style=\"text-align: right;\">\n      <th></th>\n      <th>noticeNo</th>\n      <th>contractValue</th>\n      <th>title</th>\n      <th>currencyCode</th>\n      <th>publicationDate</th>\n      <th>countyCode</th>\n      <th>contractingAuthorityName</th>\n      <th>cpvCodeName</th>\n      <th>cpvCode</th>\n      <th>cpvCodeType</th>\n      <th>cNoticeNo</th>\n      <th>cNoticeEstimatedContractValue</th>\n      <th>cNoticePublicationDate</th>\n      <th>cNoticeTitle</th>\n      <th>organizationName</th>\n      <th>organizationId</th>\n    </tr>\n  </thead>\n  <tbody>\n    <tr>\n      <th>0</th>\n      <td>1063564</td>\n      <td>133657.00</td>\n      <td>Servicii de curatenie pentru sediile administr...</td>\n      <td>RON</td>\n      <td>2021-09-30 00:00:00</td>\n      <td>CJ</td>\n      <td>DISTRIBUȚIE ENERGIE ELECTRICĂ ROMANIA S.A.</td>\n      <td>Servicii de curatenie (Rev.2)</td>\n      <td>90910000-9</td>\n      <td>3</td>\n      <td>1032467.0</td>\n      <td>153780.00</td>\n      <td>2021-06-29 11:57:15</td>\n      <td>Servicii de curățenie la sediile administrativ...</td>\n      <td>DEZINFER SERVICE SRL</td>\n      <td>91285</td>\n    </tr>\n    <tr>\n      <th>1</th>\n      <td>1063609</td>\n      <td>151470.00</td>\n      <td>SISTEM COLECTARE APE DE LA SIFON TRASEU COLECT...</td>\n      <td>RON</td>\n      <td>2021-09-30 00:00:00</td>\n      <td>SB</td>\n      <td>Societatea Nationala de Gaze Naturale Romgaz S.A.</td>\n      <td>Lucrari de ameliorare a mediului (Rev.2)</td>\n      <td>45262640-9</td>\n      <td>2</td>\n      <td>1030406.0</td>\n      <td>152340.00</td>\n      <td>2021-04-20 09:04:29</td>\n      <td>SISTEM COLECTARE APE DE LA SIFON TRASEU COLECT...</td>\n      <td>UTILITAR FLUID CONSTRUCT S.R.L.</td>\n      <td>239573</td>\n    </tr>\n    <tr>\n      <th>2</th>\n      <td>1063604</td>\n      <td>850446.00</td>\n      <td>Reparaţii accidentale locomotive LDE 2100/1250...</td>\n      <td>RON</td>\n      <td>2021-09-30 00:00:00</td>\n      <td>GJ</td>\n      <td>Societatea COMPLEXUL ENERGETIC OLTENIA SA</td>\n      <td>Servicii de reparare si de intretinere a locom...</td>\n      <td>50221000-0</td>\n      <td>3</td>\n      <td>1032497.0</td>\n      <td>850446.12</td>\n      <td>2021-06-30 09:23:43</td>\n      <td>Reparatii accidentale locomotive LDE 2100/1250...</td>\n      <td>CONSTRONIC MAE SRL</td>\n      <td>287074</td>\n    </tr>\n    <tr>\n      <th>3</th>\n      <td>1063546</td>\n      <td>720948.00</td>\n      <td>Serviciu transport personal - SE Isalnita:\\na)...</td>\n      <td>RON</td>\n      <td>2021-09-30 00:00:00</td>\n      <td>GJ</td>\n      <td>Societatea COMPLEXUL ENERGETIC OLTENIA SA</td>\n      <td>Inchiriere de vehicule de transport de persoan...</td>\n      <td>60170000-0</td>\n      <td>3</td>\n      <td>1033885.0</td>\n      <td>720948.00</td>\n      <td>2021-08-13 08:32:44</td>\n      <td>,,Serviciu transport personal - SE Isalnita:\\n...</td>\n      <td>R.A.T. SRL</td>\n      <td>292011</td>\n    </tr>\n    <tr>\n      <th>4</th>\n      <td>1063262</td>\n      <td>28510.00</td>\n      <td>Realizare şi implementare sistem de colectare ...</td>\n      <td>RON</td>\n      <td>2021-09-30 00:00:00</td>\n      <td>DJ</td>\n      <td>Municipiul Craiova</td>\n      <td>Servicii de proiectare de site-uri WWW (World ...</td>\n      <td>72413000-8</td>\n      <td>3</td>\n      <td>1031039.0</td>\n      <td>45000.00</td>\n      <td>2021-05-18 01:37:51</td>\n      <td>Realizare şi implementare sistem de colectare ...</td>\n      <td>WEB WIN GROUP NET</td>\n      <td>293608</td>\n    </tr>\n    <tr>\n      <th>...</th>\n      <td>...</td>\n      <td>...</td>\n      <td>...</td>\n      <td>...</td>\n      <td>...</td>\n      <td>...</td>\n      <td>...</td>\n      <td>...</td>\n      <td>...</td>\n      <td>...</td>\n      <td>...</td>\n      <td>...</td>\n      <td>...</td>\n      <td>...</td>\n      <td>...</td>\n      <td>...</td>\n    </tr>\n    <tr>\n      <th>42394</th>\n      <td>104130</td>\n      <td>238200.00</td>\n      <td>SERVICII DE INTRETINERE, REPARATII SI SERVICE ...</td>\n      <td>RON</td>\n      <td>2011-03-22 16:36:00</td>\n      <td>B</td>\n      <td>Spitalul Clinic de Urgenta Bagdasar-Arseni</td>\n      <td>Servicii de reparare si de intretinere a echip...</td>\n      <td>50421000-2</td>\n      <td>3</td>\n      <td>114708.0</td>\n      <td>238200.00</td>\n      <td>2011-01-27 15:49:00</td>\n      <td>SERVICII DE INTRETINERE, REPARATII SI SERVICE ...</td>\n      <td>Sterisystems S.R.L.</td>\n      <td>1063</td>\n    </tr>\n    <tr>\n      <th>42395</th>\n      <td>104114</td>\n      <td>10890.50</td>\n      <td>Contract de servicii - prestatii artistice</td>\n      <td>EUR</td>\n      <td>2011-03-22 16:15:00</td>\n      <td>SV</td>\n      <td>MUZEUL BUCOVINEI</td>\n      <td>Servicii de divertisment prestate de producato...</td>\n      <td>92312100-2</td>\n      <td>3</td>\n      <td>NaN</td>\n      <td>NaN</td>\n      <td>NaN</td>\n      <td>NaN</td>\n      <td>SC MUSIC MANAGEMENT AGENCY SRL</td>\n      <td>77214</td>\n    </tr>\n    <tr>\n      <th>42396</th>\n      <td>103990</td>\n      <td>65000.00</td>\n      <td>Servicii de reparare si intretinere a automobi...</td>\n      <td>RON</td>\n      <td>2011-03-22 14:02:00</td>\n      <td>GJ</td>\n      <td>Complexul Energetic Turceni S.A.</td>\n      <td>Servicii de reparare si de intretinere a autom...</td>\n      <td>50112000-3</td>\n      <td>3</td>\n      <td>113996.0</td>\n      <td>65000.00</td>\n      <td>2011-01-13 15:43:00</td>\n      <td>Servicii de reparare si intretinere a automobi...</td>\n      <td>S.C. SERVICE AUTOMOBILE S.R.L.</td>\n      <td>61650</td>\n    </tr>\n    <tr>\n      <th>42397</th>\n      <td>104022</td>\n      <td>963067.32</td>\n      <td>Asigurarea serviciilor de paza pentru obiectiv...</td>\n      <td>RON</td>\n      <td>2011-03-22 01:30:00</td>\n      <td>GL</td>\n      <td>Municipiul Galati</td>\n      <td>Servicii de paza (Rev.2)</td>\n      <td>79713000-5</td>\n      <td>3</td>\n      <td>112746.0</td>\n      <td>1801498.00</td>\n      <td>2010-12-11 01:30:00</td>\n      <td>Asigurarea serviciilor de paza pentru obiectiv...</td>\n      <td>SC ALFARO SECURITY SRL</td>\n      <td>77200</td>\n    </tr>\n    <tr>\n      <th>42398</th>\n      <td>103938</td>\n      <td>562000.00</td>\n      <td>Servicii de reparare si intretinere a automobi...</td>\n      <td>RON</td>\n      <td>2011-03-17 16:57:00</td>\n      <td>GJ</td>\n      <td>Complexul Energetic Turceni S.A.</td>\n      <td>Servicii de reparare si de intretinere a autom...</td>\n      <td>50112000-3</td>\n      <td>3</td>\n      <td>114032.0</td>\n      <td>612000.00</td>\n      <td>2011-01-13 15:12:00</td>\n      <td>Servicii de reparare si intretinere a automobi...</td>\n      <td>S.C. SERVICE AUTOMOBILE  S.R.L.</td>\n      <td>77189</td>\n    </tr>\n  </tbody>\n</table>\n<p>42399 rows × 16 columns</p>\n</div>"
     },
     "execution_count": 4,
     "metadata": {},
     "output_type": "execute_result"
    }
   ],
   "source": [
    "import pandas as pd\n",
    "\n",
    "# Reading the data and saving it into the \"data\" variable\n",
    "\n",
    "data = pd.read_csv(\n",
    "    'data/sqllab_anunturi_de_atribuire_procedure_anunturi_de_participare_20220914T195330_v.1.0 - Copy.csv',\n",
    "    sep=';')\n",
    "\n",
    "new_rows = []\n",
    "rows_to_delete = []\n",
    "\n",
    "for index, row in data.iterrows():\n",
    "    if ',' in row['organizationName'] and ',' in row['organizationId']:\n",
    "        organizationNames = row['organizationName'].split(',')\n",
    "        organizationIds = row['organizationId'].split(',')\n",
    "        if len(organizationNames) == len(organizationIds):\n",
    "            for i in range(len(organizationNames)):\n",
    "                new_row = row\n",
    "                new_row['organizationName'] = organizationNames[i]\n",
    "                new_row['organizationId'] = organizationIds[i]\n",
    "                new_rows.append(new_row)\n",
    "            rows_to_delete.append(index)\n",
    "        else:\n",
    "            rows_to_delete.append(index)\n",
    "\n",
    "new_data = data.append(new_rows, ignore_index=True)\n",
    "bids_with_only_one_winner_per_row = new_data.drop(rows_to_delete)\n",
    "\n",
    "data = bids_with_only_one_winner_per_row\n",
    "\n",
    "data.drop_duplicates(inplace=True)\n",
    "\n",
    "data.to_csv('data/data_only_one_winner.csv', index=False)\n",
    "\n",
    "data = pd.read_csv('data/data_only_one_winner.csv')\n",
    "\n",
    "data"
   ]
  }
 ],
 "metadata": {
  "kernelspec": {
   "display_name": "Python 3",
   "language": "python",
   "name": "python3"
  },
  "language_info": {
   "codemirror_mode": {
    "name": "ipython",
    "version": 2
   },
   "file_extension": ".py",
   "mimetype": "text/x-python",
   "name": "python",
   "nbconvert_exporter": "python",
   "pygments_lexer": "ipython2",
   "version": "2.7.6"
  }
 },
 "nbformat": 4,
 "nbformat_minor": 0
}
