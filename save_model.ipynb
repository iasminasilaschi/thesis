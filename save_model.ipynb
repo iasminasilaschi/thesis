{
 "cells": [
  {
   "cell_type": "code",
   "execution_count": 1,
   "metadata": {
    "collapsed": true
   },
   "outputs": [
    {
     "name": "stdout",
     "output_type": "stream",
     "text": [
      "Accuracy: 0.11\n",
      "Precision: 0.85\n",
      "Recall: 0.11\n",
      "F1 Score: 0.03\n"
     ]
    },
    {
     "data": {
      "text/plain": "['trained_model.joblib']"
     },
     "execution_count": 1,
     "metadata": {},
     "output_type": "execute_result"
    }
   ],
   "source": [
    "import joblib\n",
    "\n",
    "# 1. Import necessary libraries and modules\n",
    "import pandas as pd\n",
    "from sklearn.metrics import accuracy_score, precision_score, recall_score, f1_score\n",
    "from sklearn.model_selection import train_test_split\n",
    "from sklearn.ensemble import ExtraTreesClassifier\n",
    "\n",
    "# 2. Load and preprocess data\n",
    "data = pd.read_csv('data/best_encoded_data.csv')\n",
    "X = data.drop('organizationId', axis=1)\n",
    "y = data['organizationId']\n",
    "\n",
    "# 3. Split the data into training and testing sets\n",
    "X_train, X_test, y_train, y_test = train_test_split(X, y, test_size=0.2, random_state=42)\n",
    "\n",
    "# 4. Define the model\n",
    "clf = ExtraTreesClassifier(max_depth=50, max_features=6, min_samples_leaf=3,\n",
    "                           n_estimators=500)\n",
    "\n",
    "# 5. Train the model on the training data\n",
    "clf.fit(X_train, y_train)\n",
    "\n",
    "# 6. Evaluate the model on the testing data\n",
    "y_pred = clf.predict(X_test)\n",
    "accuracy = accuracy_score(y_test, y_pred)\n",
    "precision = precision_score(y_test, y_pred, average='macro', zero_division=1)\n",
    "recall = recall_score(y_test, y_pred, average='macro', zero_division=1)\n",
    "f1 = f1_score(y_test, y_pred, average='macro')\n",
    "\n",
    "# 7. Print the performance metrics\n",
    "print(\"Accuracy: {:.2f}\".format(accuracy))\n",
    "print(\"Precision: {:.2f}\".format(precision))\n",
    "print(\"Recall: {:.2f}\".format(recall))\n",
    "print(\"F1 Score: {:.2f}\".format(f1))\n",
    "\n",
    "joblib.dump(clf, 'trained_model.joblib')"
   ]
  },
  {
   "cell_type": "code",
   "execution_count": 1,
   "outputs": [
    {
     "name": "stdout",
     "output_type": "stream",
     "text": [
      "Accuracy: 0.14\n",
      "Precision: 0.69\n",
      "Recall: 0.26\n",
      "F1 Score: 0.05\n"
     ]
    },
    {
     "ename": "OSError",
     "evalue": "[Errno 28] No space left on device",
     "output_type": "error",
     "traceback": [
      "\u001B[1;31m---------------------------------------------------------------------------\u001B[0m",
      "\u001B[1;31mOSError\u001B[0m                                   Traceback (most recent call last)",
      "Cell \u001B[1;32mIn[1], line 36\u001B[0m\n\u001B[0;32m     33\u001B[0m \u001B[38;5;28mprint\u001B[39m(\u001B[38;5;124m\"\u001B[39m\u001B[38;5;124mRecall: \u001B[39m\u001B[38;5;132;01m{:.2f}\u001B[39;00m\u001B[38;5;124m\"\u001B[39m\u001B[38;5;241m.\u001B[39mformat(recall))\n\u001B[0;32m     34\u001B[0m \u001B[38;5;28mprint\u001B[39m(\u001B[38;5;124m\"\u001B[39m\u001B[38;5;124mF1 Score: \u001B[39m\u001B[38;5;132;01m{:.2f}\u001B[39;00m\u001B[38;5;124m\"\u001B[39m\u001B[38;5;241m.\u001B[39mformat(f1))\n\u001B[1;32m---> 36\u001B[0m \u001B[43mjoblib\u001B[49m\u001B[38;5;241;43m.\u001B[39;49m\u001B[43mdump\u001B[49m\u001B[43m(\u001B[49m\u001B[43mclf\u001B[49m\u001B[43m,\u001B[49m\u001B[43m \u001B[49m\u001B[38;5;124;43m'\u001B[39;49m\u001B[38;5;124;43mtrained_model_label.joblib\u001B[39;49m\u001B[38;5;124;43m'\u001B[39;49m\u001B[43m)\u001B[49m\n",
      "File \u001B[1;32m~\\anaconda3\\envs\\thesis\\lib\\site-packages\\joblib\\numpy_pickle.py:482\u001B[0m, in \u001B[0;36mdump\u001B[1;34m(value, filename, compress, protocol, cache_size)\u001B[0m\n\u001B[0;32m    480\u001B[0m \u001B[38;5;28;01melif\u001B[39;00m is_filename:\n\u001B[0;32m    481\u001B[0m     \u001B[38;5;28;01mwith\u001B[39;00m \u001B[38;5;28mopen\u001B[39m(filename, \u001B[38;5;124m'\u001B[39m\u001B[38;5;124mwb\u001B[39m\u001B[38;5;124m'\u001B[39m) \u001B[38;5;28;01mas\u001B[39;00m f:\n\u001B[1;32m--> 482\u001B[0m         \u001B[43mNumpyPickler\u001B[49m\u001B[43m(\u001B[49m\u001B[43mf\u001B[49m\u001B[43m,\u001B[49m\u001B[43m \u001B[49m\u001B[43mprotocol\u001B[49m\u001B[38;5;241;43m=\u001B[39;49m\u001B[43mprotocol\u001B[49m\u001B[43m)\u001B[49m\u001B[38;5;241;43m.\u001B[39;49m\u001B[43mdump\u001B[49m\u001B[43m(\u001B[49m\u001B[43mvalue\u001B[49m\u001B[43m)\u001B[49m\n\u001B[0;32m    483\u001B[0m \u001B[38;5;28;01melse\u001B[39;00m:\n\u001B[0;32m    484\u001B[0m     NumpyPickler(filename, protocol\u001B[38;5;241m=\u001B[39mprotocol)\u001B[38;5;241m.\u001B[39mdump(value)\n",
      "File \u001B[1;32m~\\anaconda3\\envs\\thesis\\lib\\pickle.py:487\u001B[0m, in \u001B[0;36m_Pickler.dump\u001B[1;34m(self, obj)\u001B[0m\n\u001B[0;32m    485\u001B[0m \u001B[38;5;28;01mif\u001B[39;00m \u001B[38;5;28mself\u001B[39m\u001B[38;5;241m.\u001B[39mproto \u001B[38;5;241m>\u001B[39m\u001B[38;5;241m=\u001B[39m \u001B[38;5;241m4\u001B[39m:\n\u001B[0;32m    486\u001B[0m     \u001B[38;5;28mself\u001B[39m\u001B[38;5;241m.\u001B[39mframer\u001B[38;5;241m.\u001B[39mstart_framing()\n\u001B[1;32m--> 487\u001B[0m \u001B[38;5;28;43mself\u001B[39;49m\u001B[38;5;241;43m.\u001B[39;49m\u001B[43msave\u001B[49m\u001B[43m(\u001B[49m\u001B[43mobj\u001B[49m\u001B[43m)\u001B[49m\n\u001B[0;32m    488\u001B[0m \u001B[38;5;28mself\u001B[39m\u001B[38;5;241m.\u001B[39mwrite(STOP)\n\u001B[0;32m    489\u001B[0m \u001B[38;5;28mself\u001B[39m\u001B[38;5;241m.\u001B[39mframer\u001B[38;5;241m.\u001B[39mend_framing()\n",
      "File \u001B[1;32m~\\anaconda3\\envs\\thesis\\lib\\site-packages\\joblib\\numpy_pickle.py:284\u001B[0m, in \u001B[0;36mNumpyPickler.save\u001B[1;34m(self, obj)\u001B[0m\n\u001B[0;32m    281\u001B[0m     wrapper\u001B[38;5;241m.\u001B[39mwrite_array(obj, \u001B[38;5;28mself\u001B[39m)\n\u001B[0;32m    282\u001B[0m     \u001B[38;5;28;01mreturn\u001B[39;00m\n\u001B[1;32m--> 284\u001B[0m \u001B[38;5;28;01mreturn\u001B[39;00m \u001B[43mPickler\u001B[49m\u001B[38;5;241;43m.\u001B[39;49m\u001B[43msave\u001B[49m\u001B[43m(\u001B[49m\u001B[38;5;28;43mself\u001B[39;49m\u001B[43m,\u001B[49m\u001B[43m \u001B[49m\u001B[43mobj\u001B[49m\u001B[43m)\u001B[49m\n",
      "File \u001B[1;32m~\\anaconda3\\envs\\thesis\\lib\\pickle.py:603\u001B[0m, in \u001B[0;36m_Pickler.save\u001B[1;34m(self, obj, save_persistent_id)\u001B[0m\n\u001B[0;32m    599\u001B[0m     \u001B[38;5;28;01mraise\u001B[39;00m PicklingError(\u001B[38;5;124m\"\u001B[39m\u001B[38;5;124mTuple returned by \u001B[39m\u001B[38;5;132;01m%s\u001B[39;00m\u001B[38;5;124m must have \u001B[39m\u001B[38;5;124m\"\u001B[39m\n\u001B[0;32m    600\u001B[0m                         \u001B[38;5;124m\"\u001B[39m\u001B[38;5;124mtwo to six elements\u001B[39m\u001B[38;5;124m\"\u001B[39m \u001B[38;5;241m%\u001B[39m reduce)\n\u001B[0;32m    602\u001B[0m \u001B[38;5;66;03m# Save the reduce() output and finally memoize the object\u001B[39;00m\n\u001B[1;32m--> 603\u001B[0m \u001B[38;5;28;43mself\u001B[39;49m\u001B[38;5;241;43m.\u001B[39;49m\u001B[43msave_reduce\u001B[49m\u001B[43m(\u001B[49m\u001B[43mobj\u001B[49m\u001B[38;5;241;43m=\u001B[39;49m\u001B[43mobj\u001B[49m\u001B[43m,\u001B[49m\u001B[43m \u001B[49m\u001B[38;5;241;43m*\u001B[39;49m\u001B[43mrv\u001B[49m\u001B[43m)\u001B[49m\n",
      "File \u001B[1;32m~\\anaconda3\\envs\\thesis\\lib\\pickle.py:717\u001B[0m, in \u001B[0;36m_Pickler.save_reduce\u001B[1;34m(self, func, args, state, listitems, dictitems, state_setter, obj)\u001B[0m\n\u001B[0;32m    715\u001B[0m \u001B[38;5;28;01mif\u001B[39;00m state \u001B[38;5;129;01mis\u001B[39;00m \u001B[38;5;129;01mnot\u001B[39;00m \u001B[38;5;28;01mNone\u001B[39;00m:\n\u001B[0;32m    716\u001B[0m     \u001B[38;5;28;01mif\u001B[39;00m state_setter \u001B[38;5;129;01mis\u001B[39;00m \u001B[38;5;28;01mNone\u001B[39;00m:\n\u001B[1;32m--> 717\u001B[0m         \u001B[43msave\u001B[49m\u001B[43m(\u001B[49m\u001B[43mstate\u001B[49m\u001B[43m)\u001B[49m\n\u001B[0;32m    718\u001B[0m         write(BUILD)\n\u001B[0;32m    719\u001B[0m     \u001B[38;5;28;01melse\u001B[39;00m:\n\u001B[0;32m    720\u001B[0m         \u001B[38;5;66;03m# If a state_setter is specified, call it instead of load_build\u001B[39;00m\n\u001B[0;32m    721\u001B[0m         \u001B[38;5;66;03m# to update obj's with its previous state.\u001B[39;00m\n\u001B[0;32m    722\u001B[0m         \u001B[38;5;66;03m# First, push state_setter and its tuple of expected arguments\u001B[39;00m\n\u001B[0;32m    723\u001B[0m         \u001B[38;5;66;03m# (obj, state) onto the stack.\u001B[39;00m\n",
      "File \u001B[1;32m~\\anaconda3\\envs\\thesis\\lib\\site-packages\\joblib\\numpy_pickle.py:284\u001B[0m, in \u001B[0;36mNumpyPickler.save\u001B[1;34m(self, obj)\u001B[0m\n\u001B[0;32m    281\u001B[0m     wrapper\u001B[38;5;241m.\u001B[39mwrite_array(obj, \u001B[38;5;28mself\u001B[39m)\n\u001B[0;32m    282\u001B[0m     \u001B[38;5;28;01mreturn\u001B[39;00m\n\u001B[1;32m--> 284\u001B[0m \u001B[38;5;28;01mreturn\u001B[39;00m \u001B[43mPickler\u001B[49m\u001B[38;5;241;43m.\u001B[39;49m\u001B[43msave\u001B[49m\u001B[43m(\u001B[49m\u001B[38;5;28;43mself\u001B[39;49m\u001B[43m,\u001B[49m\u001B[43m \u001B[49m\u001B[43mobj\u001B[49m\u001B[43m)\u001B[49m\n",
      "File \u001B[1;32m~\\anaconda3\\envs\\thesis\\lib\\pickle.py:560\u001B[0m, in \u001B[0;36m_Pickler.save\u001B[1;34m(self, obj, save_persistent_id)\u001B[0m\n\u001B[0;32m    558\u001B[0m f \u001B[38;5;241m=\u001B[39m \u001B[38;5;28mself\u001B[39m\u001B[38;5;241m.\u001B[39mdispatch\u001B[38;5;241m.\u001B[39mget(t)\n\u001B[0;32m    559\u001B[0m \u001B[38;5;28;01mif\u001B[39;00m f \u001B[38;5;129;01mis\u001B[39;00m \u001B[38;5;129;01mnot\u001B[39;00m \u001B[38;5;28;01mNone\u001B[39;00m:\n\u001B[1;32m--> 560\u001B[0m     \u001B[43mf\u001B[49m\u001B[43m(\u001B[49m\u001B[38;5;28;43mself\u001B[39;49m\u001B[43m,\u001B[49m\u001B[43m \u001B[49m\u001B[43mobj\u001B[49m\u001B[43m)\u001B[49m  \u001B[38;5;66;03m# Call unbound method with explicit self\u001B[39;00m\n\u001B[0;32m    561\u001B[0m     \u001B[38;5;28;01mreturn\u001B[39;00m\n\u001B[0;32m    563\u001B[0m \u001B[38;5;66;03m# Check private dispatch table if any, or else\u001B[39;00m\n\u001B[0;32m    564\u001B[0m \u001B[38;5;66;03m# copyreg.dispatch_table\u001B[39;00m\n",
      "File \u001B[1;32m~\\anaconda3\\envs\\thesis\\lib\\pickle.py:972\u001B[0m, in \u001B[0;36m_Pickler.save_dict\u001B[1;34m(self, obj)\u001B[0m\n\u001B[0;32m    969\u001B[0m     \u001B[38;5;28mself\u001B[39m\u001B[38;5;241m.\u001B[39mwrite(MARK \u001B[38;5;241m+\u001B[39m DICT)\n\u001B[0;32m    971\u001B[0m \u001B[38;5;28mself\u001B[39m\u001B[38;5;241m.\u001B[39mmemoize(obj)\n\u001B[1;32m--> 972\u001B[0m \u001B[38;5;28;43mself\u001B[39;49m\u001B[38;5;241;43m.\u001B[39;49m\u001B[43m_batch_setitems\u001B[49m\u001B[43m(\u001B[49m\u001B[43mobj\u001B[49m\u001B[38;5;241;43m.\u001B[39;49m\u001B[43mitems\u001B[49m\u001B[43m(\u001B[49m\u001B[43m)\u001B[49m\u001B[43m)\u001B[49m\n",
      "File \u001B[1;32m~\\anaconda3\\envs\\thesis\\lib\\pickle.py:998\u001B[0m, in \u001B[0;36m_Pickler._batch_setitems\u001B[1;34m(self, items)\u001B[0m\n\u001B[0;32m    996\u001B[0m     \u001B[38;5;28;01mfor\u001B[39;00m k, v \u001B[38;5;129;01min\u001B[39;00m tmp:\n\u001B[0;32m    997\u001B[0m         save(k)\n\u001B[1;32m--> 998\u001B[0m         \u001B[43msave\u001B[49m\u001B[43m(\u001B[49m\u001B[43mv\u001B[49m\u001B[43m)\u001B[49m\n\u001B[0;32m    999\u001B[0m     write(SETITEMS)\n\u001B[0;32m   1000\u001B[0m \u001B[38;5;28;01melif\u001B[39;00m n:\n",
      "File \u001B[1;32m~\\anaconda3\\envs\\thesis\\lib\\site-packages\\joblib\\numpy_pickle.py:284\u001B[0m, in \u001B[0;36mNumpyPickler.save\u001B[1;34m(self, obj)\u001B[0m\n\u001B[0;32m    281\u001B[0m     wrapper\u001B[38;5;241m.\u001B[39mwrite_array(obj, \u001B[38;5;28mself\u001B[39m)\n\u001B[0;32m    282\u001B[0m     \u001B[38;5;28;01mreturn\u001B[39;00m\n\u001B[1;32m--> 284\u001B[0m \u001B[38;5;28;01mreturn\u001B[39;00m \u001B[43mPickler\u001B[49m\u001B[38;5;241;43m.\u001B[39;49m\u001B[43msave\u001B[49m\u001B[43m(\u001B[49m\u001B[38;5;28;43mself\u001B[39;49m\u001B[43m,\u001B[49m\u001B[43m \u001B[49m\u001B[43mobj\u001B[49m\u001B[43m)\u001B[49m\n",
      "File \u001B[1;32m~\\anaconda3\\envs\\thesis\\lib\\pickle.py:560\u001B[0m, in \u001B[0;36m_Pickler.save\u001B[1;34m(self, obj, save_persistent_id)\u001B[0m\n\u001B[0;32m    558\u001B[0m f \u001B[38;5;241m=\u001B[39m \u001B[38;5;28mself\u001B[39m\u001B[38;5;241m.\u001B[39mdispatch\u001B[38;5;241m.\u001B[39mget(t)\n\u001B[0;32m    559\u001B[0m \u001B[38;5;28;01mif\u001B[39;00m f \u001B[38;5;129;01mis\u001B[39;00m \u001B[38;5;129;01mnot\u001B[39;00m \u001B[38;5;28;01mNone\u001B[39;00m:\n\u001B[1;32m--> 560\u001B[0m     \u001B[43mf\u001B[49m\u001B[43m(\u001B[49m\u001B[38;5;28;43mself\u001B[39;49m\u001B[43m,\u001B[49m\u001B[43m \u001B[49m\u001B[43mobj\u001B[49m\u001B[43m)\u001B[49m  \u001B[38;5;66;03m# Call unbound method with explicit self\u001B[39;00m\n\u001B[0;32m    561\u001B[0m     \u001B[38;5;28;01mreturn\u001B[39;00m\n\u001B[0;32m    563\u001B[0m \u001B[38;5;66;03m# Check private dispatch table if any, or else\u001B[39;00m\n\u001B[0;32m    564\u001B[0m \u001B[38;5;66;03m# copyreg.dispatch_table\u001B[39;00m\n",
      "File \u001B[1;32m~\\anaconda3\\envs\\thesis\\lib\\pickle.py:932\u001B[0m, in \u001B[0;36m_Pickler.save_list\u001B[1;34m(self, obj)\u001B[0m\n\u001B[0;32m    929\u001B[0m     \u001B[38;5;28mself\u001B[39m\u001B[38;5;241m.\u001B[39mwrite(MARK \u001B[38;5;241m+\u001B[39m LIST)\n\u001B[0;32m    931\u001B[0m \u001B[38;5;28mself\u001B[39m\u001B[38;5;241m.\u001B[39mmemoize(obj)\n\u001B[1;32m--> 932\u001B[0m \u001B[38;5;28;43mself\u001B[39;49m\u001B[38;5;241;43m.\u001B[39;49m\u001B[43m_batch_appends\u001B[49m\u001B[43m(\u001B[49m\u001B[43mobj\u001B[49m\u001B[43m)\u001B[49m\n",
      "File \u001B[1;32m~\\anaconda3\\envs\\thesis\\lib\\pickle.py:956\u001B[0m, in \u001B[0;36m_Pickler._batch_appends\u001B[1;34m(self, items)\u001B[0m\n\u001B[0;32m    954\u001B[0m     write(MARK)\n\u001B[0;32m    955\u001B[0m     \u001B[38;5;28;01mfor\u001B[39;00m x \u001B[38;5;129;01min\u001B[39;00m tmp:\n\u001B[1;32m--> 956\u001B[0m         \u001B[43msave\u001B[49m\u001B[43m(\u001B[49m\u001B[43mx\u001B[49m\u001B[43m)\u001B[49m\n\u001B[0;32m    957\u001B[0m     write(APPENDS)\n\u001B[0;32m    958\u001B[0m \u001B[38;5;28;01melif\u001B[39;00m n:\n",
      "File \u001B[1;32m~\\anaconda3\\envs\\thesis\\lib\\site-packages\\joblib\\numpy_pickle.py:284\u001B[0m, in \u001B[0;36mNumpyPickler.save\u001B[1;34m(self, obj)\u001B[0m\n\u001B[0;32m    281\u001B[0m     wrapper\u001B[38;5;241m.\u001B[39mwrite_array(obj, \u001B[38;5;28mself\u001B[39m)\n\u001B[0;32m    282\u001B[0m     \u001B[38;5;28;01mreturn\u001B[39;00m\n\u001B[1;32m--> 284\u001B[0m \u001B[38;5;28;01mreturn\u001B[39;00m \u001B[43mPickler\u001B[49m\u001B[38;5;241;43m.\u001B[39;49m\u001B[43msave\u001B[49m\u001B[43m(\u001B[49m\u001B[38;5;28;43mself\u001B[39;49m\u001B[43m,\u001B[49m\u001B[43m \u001B[49m\u001B[43mobj\u001B[49m\u001B[43m)\u001B[49m\n",
      "File \u001B[1;32m~\\anaconda3\\envs\\thesis\\lib\\pickle.py:603\u001B[0m, in \u001B[0;36m_Pickler.save\u001B[1;34m(self, obj, save_persistent_id)\u001B[0m\n\u001B[0;32m    599\u001B[0m     \u001B[38;5;28;01mraise\u001B[39;00m PicklingError(\u001B[38;5;124m\"\u001B[39m\u001B[38;5;124mTuple returned by \u001B[39m\u001B[38;5;132;01m%s\u001B[39;00m\u001B[38;5;124m must have \u001B[39m\u001B[38;5;124m\"\u001B[39m\n\u001B[0;32m    600\u001B[0m                         \u001B[38;5;124m\"\u001B[39m\u001B[38;5;124mtwo to six elements\u001B[39m\u001B[38;5;124m\"\u001B[39m \u001B[38;5;241m%\u001B[39m reduce)\n\u001B[0;32m    602\u001B[0m \u001B[38;5;66;03m# Save the reduce() output and finally memoize the object\u001B[39;00m\n\u001B[1;32m--> 603\u001B[0m \u001B[38;5;28;43mself\u001B[39;49m\u001B[38;5;241;43m.\u001B[39;49m\u001B[43msave_reduce\u001B[49m\u001B[43m(\u001B[49m\u001B[43mobj\u001B[49m\u001B[38;5;241;43m=\u001B[39;49m\u001B[43mobj\u001B[49m\u001B[43m,\u001B[49m\u001B[43m \u001B[49m\u001B[38;5;241;43m*\u001B[39;49m\u001B[43mrv\u001B[49m\u001B[43m)\u001B[49m\n",
      "File \u001B[1;32m~\\anaconda3\\envs\\thesis\\lib\\pickle.py:717\u001B[0m, in \u001B[0;36m_Pickler.save_reduce\u001B[1;34m(self, func, args, state, listitems, dictitems, state_setter, obj)\u001B[0m\n\u001B[0;32m    715\u001B[0m \u001B[38;5;28;01mif\u001B[39;00m state \u001B[38;5;129;01mis\u001B[39;00m \u001B[38;5;129;01mnot\u001B[39;00m \u001B[38;5;28;01mNone\u001B[39;00m:\n\u001B[0;32m    716\u001B[0m     \u001B[38;5;28;01mif\u001B[39;00m state_setter \u001B[38;5;129;01mis\u001B[39;00m \u001B[38;5;28;01mNone\u001B[39;00m:\n\u001B[1;32m--> 717\u001B[0m         \u001B[43msave\u001B[49m\u001B[43m(\u001B[49m\u001B[43mstate\u001B[49m\u001B[43m)\u001B[49m\n\u001B[0;32m    718\u001B[0m         write(BUILD)\n\u001B[0;32m    719\u001B[0m     \u001B[38;5;28;01melse\u001B[39;00m:\n\u001B[0;32m    720\u001B[0m         \u001B[38;5;66;03m# If a state_setter is specified, call it instead of load_build\u001B[39;00m\n\u001B[0;32m    721\u001B[0m         \u001B[38;5;66;03m# to update obj's with its previous state.\u001B[39;00m\n\u001B[0;32m    722\u001B[0m         \u001B[38;5;66;03m# First, push state_setter and its tuple of expected arguments\u001B[39;00m\n\u001B[0;32m    723\u001B[0m         \u001B[38;5;66;03m# (obj, state) onto the stack.\u001B[39;00m\n",
      "File \u001B[1;32m~\\anaconda3\\envs\\thesis\\lib\\site-packages\\joblib\\numpy_pickle.py:284\u001B[0m, in \u001B[0;36mNumpyPickler.save\u001B[1;34m(self, obj)\u001B[0m\n\u001B[0;32m    281\u001B[0m     wrapper\u001B[38;5;241m.\u001B[39mwrite_array(obj, \u001B[38;5;28mself\u001B[39m)\n\u001B[0;32m    282\u001B[0m     \u001B[38;5;28;01mreturn\u001B[39;00m\n\u001B[1;32m--> 284\u001B[0m \u001B[38;5;28;01mreturn\u001B[39;00m \u001B[43mPickler\u001B[49m\u001B[38;5;241;43m.\u001B[39;49m\u001B[43msave\u001B[49m\u001B[43m(\u001B[49m\u001B[38;5;28;43mself\u001B[39;49m\u001B[43m,\u001B[49m\u001B[43m \u001B[49m\u001B[43mobj\u001B[49m\u001B[43m)\u001B[49m\n",
      "File \u001B[1;32m~\\anaconda3\\envs\\thesis\\lib\\pickle.py:560\u001B[0m, in \u001B[0;36m_Pickler.save\u001B[1;34m(self, obj, save_persistent_id)\u001B[0m\n\u001B[0;32m    558\u001B[0m f \u001B[38;5;241m=\u001B[39m \u001B[38;5;28mself\u001B[39m\u001B[38;5;241m.\u001B[39mdispatch\u001B[38;5;241m.\u001B[39mget(t)\n\u001B[0;32m    559\u001B[0m \u001B[38;5;28;01mif\u001B[39;00m f \u001B[38;5;129;01mis\u001B[39;00m \u001B[38;5;129;01mnot\u001B[39;00m \u001B[38;5;28;01mNone\u001B[39;00m:\n\u001B[1;32m--> 560\u001B[0m     \u001B[43mf\u001B[49m\u001B[43m(\u001B[49m\u001B[38;5;28;43mself\u001B[39;49m\u001B[43m,\u001B[49m\u001B[43m \u001B[49m\u001B[43mobj\u001B[49m\u001B[43m)\u001B[49m  \u001B[38;5;66;03m# Call unbound method with explicit self\u001B[39;00m\n\u001B[0;32m    561\u001B[0m     \u001B[38;5;28;01mreturn\u001B[39;00m\n\u001B[0;32m    563\u001B[0m \u001B[38;5;66;03m# Check private dispatch table if any, or else\u001B[39;00m\n\u001B[0;32m    564\u001B[0m \u001B[38;5;66;03m# copyreg.dispatch_table\u001B[39;00m\n",
      "File \u001B[1;32m~\\anaconda3\\envs\\thesis\\lib\\pickle.py:972\u001B[0m, in \u001B[0;36m_Pickler.save_dict\u001B[1;34m(self, obj)\u001B[0m\n\u001B[0;32m    969\u001B[0m     \u001B[38;5;28mself\u001B[39m\u001B[38;5;241m.\u001B[39mwrite(MARK \u001B[38;5;241m+\u001B[39m DICT)\n\u001B[0;32m    971\u001B[0m \u001B[38;5;28mself\u001B[39m\u001B[38;5;241m.\u001B[39mmemoize(obj)\n\u001B[1;32m--> 972\u001B[0m \u001B[38;5;28;43mself\u001B[39;49m\u001B[38;5;241;43m.\u001B[39;49m\u001B[43m_batch_setitems\u001B[49m\u001B[43m(\u001B[49m\u001B[43mobj\u001B[49m\u001B[38;5;241;43m.\u001B[39;49m\u001B[43mitems\u001B[49m\u001B[43m(\u001B[49m\u001B[43m)\u001B[49m\u001B[43m)\u001B[49m\n",
      "File \u001B[1;32m~\\anaconda3\\envs\\thesis\\lib\\pickle.py:998\u001B[0m, in \u001B[0;36m_Pickler._batch_setitems\u001B[1;34m(self, items)\u001B[0m\n\u001B[0;32m    996\u001B[0m     \u001B[38;5;28;01mfor\u001B[39;00m k, v \u001B[38;5;129;01min\u001B[39;00m tmp:\n\u001B[0;32m    997\u001B[0m         save(k)\n\u001B[1;32m--> 998\u001B[0m         \u001B[43msave\u001B[49m\u001B[43m(\u001B[49m\u001B[43mv\u001B[49m\u001B[43m)\u001B[49m\n\u001B[0;32m    999\u001B[0m     write(SETITEMS)\n\u001B[0;32m   1000\u001B[0m \u001B[38;5;28;01melif\u001B[39;00m n:\n",
      "File \u001B[1;32m~\\anaconda3\\envs\\thesis\\lib\\site-packages\\joblib\\numpy_pickle.py:284\u001B[0m, in \u001B[0;36mNumpyPickler.save\u001B[1;34m(self, obj)\u001B[0m\n\u001B[0;32m    281\u001B[0m     wrapper\u001B[38;5;241m.\u001B[39mwrite_array(obj, \u001B[38;5;28mself\u001B[39m)\n\u001B[0;32m    282\u001B[0m     \u001B[38;5;28;01mreturn\u001B[39;00m\n\u001B[1;32m--> 284\u001B[0m \u001B[38;5;28;01mreturn\u001B[39;00m \u001B[43mPickler\u001B[49m\u001B[38;5;241;43m.\u001B[39;49m\u001B[43msave\u001B[49m\u001B[43m(\u001B[49m\u001B[38;5;28;43mself\u001B[39;49m\u001B[43m,\u001B[49m\u001B[43m \u001B[49m\u001B[43mobj\u001B[49m\u001B[43m)\u001B[49m\n",
      "File \u001B[1;32m~\\anaconda3\\envs\\thesis\\lib\\pickle.py:603\u001B[0m, in \u001B[0;36m_Pickler.save\u001B[1;34m(self, obj, save_persistent_id)\u001B[0m\n\u001B[0;32m    599\u001B[0m     \u001B[38;5;28;01mraise\u001B[39;00m PicklingError(\u001B[38;5;124m\"\u001B[39m\u001B[38;5;124mTuple returned by \u001B[39m\u001B[38;5;132;01m%s\u001B[39;00m\u001B[38;5;124m must have \u001B[39m\u001B[38;5;124m\"\u001B[39m\n\u001B[0;32m    600\u001B[0m                         \u001B[38;5;124m\"\u001B[39m\u001B[38;5;124mtwo to six elements\u001B[39m\u001B[38;5;124m\"\u001B[39m \u001B[38;5;241m%\u001B[39m reduce)\n\u001B[0;32m    602\u001B[0m \u001B[38;5;66;03m# Save the reduce() output and finally memoize the object\u001B[39;00m\n\u001B[1;32m--> 603\u001B[0m \u001B[38;5;28;43mself\u001B[39;49m\u001B[38;5;241;43m.\u001B[39;49m\u001B[43msave_reduce\u001B[49m\u001B[43m(\u001B[49m\u001B[43mobj\u001B[49m\u001B[38;5;241;43m=\u001B[39;49m\u001B[43mobj\u001B[49m\u001B[43m,\u001B[49m\u001B[43m \u001B[49m\u001B[38;5;241;43m*\u001B[39;49m\u001B[43mrv\u001B[49m\u001B[43m)\u001B[49m\n",
      "File \u001B[1;32m~\\anaconda3\\envs\\thesis\\lib\\pickle.py:717\u001B[0m, in \u001B[0;36m_Pickler.save_reduce\u001B[1;34m(self, func, args, state, listitems, dictitems, state_setter, obj)\u001B[0m\n\u001B[0;32m    715\u001B[0m \u001B[38;5;28;01mif\u001B[39;00m state \u001B[38;5;129;01mis\u001B[39;00m \u001B[38;5;129;01mnot\u001B[39;00m \u001B[38;5;28;01mNone\u001B[39;00m:\n\u001B[0;32m    716\u001B[0m     \u001B[38;5;28;01mif\u001B[39;00m state_setter \u001B[38;5;129;01mis\u001B[39;00m \u001B[38;5;28;01mNone\u001B[39;00m:\n\u001B[1;32m--> 717\u001B[0m         \u001B[43msave\u001B[49m\u001B[43m(\u001B[49m\u001B[43mstate\u001B[49m\u001B[43m)\u001B[49m\n\u001B[0;32m    718\u001B[0m         write(BUILD)\n\u001B[0;32m    719\u001B[0m     \u001B[38;5;28;01melse\u001B[39;00m:\n\u001B[0;32m    720\u001B[0m         \u001B[38;5;66;03m# If a state_setter is specified, call it instead of load_build\u001B[39;00m\n\u001B[0;32m    721\u001B[0m         \u001B[38;5;66;03m# to update obj's with its previous state.\u001B[39;00m\n\u001B[0;32m    722\u001B[0m         \u001B[38;5;66;03m# First, push state_setter and its tuple of expected arguments\u001B[39;00m\n\u001B[0;32m    723\u001B[0m         \u001B[38;5;66;03m# (obj, state) onto the stack.\u001B[39;00m\n",
      "File \u001B[1;32m~\\anaconda3\\envs\\thesis\\lib\\site-packages\\joblib\\numpy_pickle.py:284\u001B[0m, in \u001B[0;36mNumpyPickler.save\u001B[1;34m(self, obj)\u001B[0m\n\u001B[0;32m    281\u001B[0m     wrapper\u001B[38;5;241m.\u001B[39mwrite_array(obj, \u001B[38;5;28mself\u001B[39m)\n\u001B[0;32m    282\u001B[0m     \u001B[38;5;28;01mreturn\u001B[39;00m\n\u001B[1;32m--> 284\u001B[0m \u001B[38;5;28;01mreturn\u001B[39;00m \u001B[43mPickler\u001B[49m\u001B[38;5;241;43m.\u001B[39;49m\u001B[43msave\u001B[49m\u001B[43m(\u001B[49m\u001B[38;5;28;43mself\u001B[39;49m\u001B[43m,\u001B[49m\u001B[43m \u001B[49m\u001B[43mobj\u001B[49m\u001B[43m)\u001B[49m\n",
      "File \u001B[1;32m~\\anaconda3\\envs\\thesis\\lib\\pickle.py:560\u001B[0m, in \u001B[0;36m_Pickler.save\u001B[1;34m(self, obj, save_persistent_id)\u001B[0m\n\u001B[0;32m    558\u001B[0m f \u001B[38;5;241m=\u001B[39m \u001B[38;5;28mself\u001B[39m\u001B[38;5;241m.\u001B[39mdispatch\u001B[38;5;241m.\u001B[39mget(t)\n\u001B[0;32m    559\u001B[0m \u001B[38;5;28;01mif\u001B[39;00m f \u001B[38;5;129;01mis\u001B[39;00m \u001B[38;5;129;01mnot\u001B[39;00m \u001B[38;5;28;01mNone\u001B[39;00m:\n\u001B[1;32m--> 560\u001B[0m     \u001B[43mf\u001B[49m\u001B[43m(\u001B[49m\u001B[38;5;28;43mself\u001B[39;49m\u001B[43m,\u001B[49m\u001B[43m \u001B[49m\u001B[43mobj\u001B[49m\u001B[43m)\u001B[49m  \u001B[38;5;66;03m# Call unbound method with explicit self\u001B[39;00m\n\u001B[0;32m    561\u001B[0m     \u001B[38;5;28;01mreturn\u001B[39;00m\n\u001B[0;32m    563\u001B[0m \u001B[38;5;66;03m# Check private dispatch table if any, or else\u001B[39;00m\n\u001B[0;32m    564\u001B[0m \u001B[38;5;66;03m# copyreg.dispatch_table\u001B[39;00m\n",
      "File \u001B[1;32m~\\anaconda3\\envs\\thesis\\lib\\pickle.py:972\u001B[0m, in \u001B[0;36m_Pickler.save_dict\u001B[1;34m(self, obj)\u001B[0m\n\u001B[0;32m    969\u001B[0m     \u001B[38;5;28mself\u001B[39m\u001B[38;5;241m.\u001B[39mwrite(MARK \u001B[38;5;241m+\u001B[39m DICT)\n\u001B[0;32m    971\u001B[0m \u001B[38;5;28mself\u001B[39m\u001B[38;5;241m.\u001B[39mmemoize(obj)\n\u001B[1;32m--> 972\u001B[0m \u001B[38;5;28;43mself\u001B[39;49m\u001B[38;5;241;43m.\u001B[39;49m\u001B[43m_batch_setitems\u001B[49m\u001B[43m(\u001B[49m\u001B[43mobj\u001B[49m\u001B[38;5;241;43m.\u001B[39;49m\u001B[43mitems\u001B[49m\u001B[43m(\u001B[49m\u001B[43m)\u001B[49m\u001B[43m)\u001B[49m\n",
      "File \u001B[1;32m~\\anaconda3\\envs\\thesis\\lib\\pickle.py:998\u001B[0m, in \u001B[0;36m_Pickler._batch_setitems\u001B[1;34m(self, items)\u001B[0m\n\u001B[0;32m    996\u001B[0m     \u001B[38;5;28;01mfor\u001B[39;00m k, v \u001B[38;5;129;01min\u001B[39;00m tmp:\n\u001B[0;32m    997\u001B[0m         save(k)\n\u001B[1;32m--> 998\u001B[0m         \u001B[43msave\u001B[49m\u001B[43m(\u001B[49m\u001B[43mv\u001B[49m\u001B[43m)\u001B[49m\n\u001B[0;32m    999\u001B[0m     write(SETITEMS)\n\u001B[0;32m   1000\u001B[0m \u001B[38;5;28;01melif\u001B[39;00m n:\n",
      "File \u001B[1;32m~\\anaconda3\\envs\\thesis\\lib\\site-packages\\joblib\\numpy_pickle.py:281\u001B[0m, in \u001B[0;36mNumpyPickler.save\u001B[1;34m(self, obj)\u001B[0m\n\u001B[0;32m    278\u001B[0m         \u001B[38;5;28mself\u001B[39m\u001B[38;5;241m.\u001B[39mframer\u001B[38;5;241m.\u001B[39mcommit_frame(force\u001B[38;5;241m=\u001B[39m\u001B[38;5;28;01mTrue\u001B[39;00m)\n\u001B[0;32m    280\u001B[0m     \u001B[38;5;66;03m# And then array bytes are written right after the wrapper.\u001B[39;00m\n\u001B[1;32m--> 281\u001B[0m     \u001B[43mwrapper\u001B[49m\u001B[38;5;241;43m.\u001B[39;49m\u001B[43mwrite_array\u001B[49m\u001B[43m(\u001B[49m\u001B[43mobj\u001B[49m\u001B[43m,\u001B[49m\u001B[43m \u001B[49m\u001B[38;5;28;43mself\u001B[39;49m\u001B[43m)\u001B[49m\n\u001B[0;32m    282\u001B[0m     \u001B[38;5;28;01mreturn\u001B[39;00m\n\u001B[0;32m    284\u001B[0m \u001B[38;5;28;01mreturn\u001B[39;00m Pickler\u001B[38;5;241m.\u001B[39msave(\u001B[38;5;28mself\u001B[39m, obj)\n",
      "File \u001B[1;32m~\\anaconda3\\envs\\thesis\\lib\\site-packages\\joblib\\numpy_pickle.py:104\u001B[0m, in \u001B[0;36mNumpyArrayWrapper.write_array\u001B[1;34m(self, array, pickler)\u001B[0m\n\u001B[0;32m     97\u001B[0m \u001B[38;5;28;01melse\u001B[39;00m:\n\u001B[0;32m     98\u001B[0m     \u001B[38;5;28;01mfor\u001B[39;00m chunk \u001B[38;5;129;01min\u001B[39;00m pickler\u001B[38;5;241m.\u001B[39mnp\u001B[38;5;241m.\u001B[39mnditer(array,\n\u001B[0;32m     99\u001B[0m                                    flags\u001B[38;5;241m=\u001B[39m[\u001B[38;5;124m'\u001B[39m\u001B[38;5;124mexternal_loop\u001B[39m\u001B[38;5;124m'\u001B[39m,\n\u001B[0;32m    100\u001B[0m                                           \u001B[38;5;124m'\u001B[39m\u001B[38;5;124mbuffered\u001B[39m\u001B[38;5;124m'\u001B[39m,\n\u001B[0;32m    101\u001B[0m                                           \u001B[38;5;124m'\u001B[39m\u001B[38;5;124mzerosize_ok\u001B[39m\u001B[38;5;124m'\u001B[39m],\n\u001B[0;32m    102\u001B[0m                                    buffersize\u001B[38;5;241m=\u001B[39mbuffersize,\n\u001B[0;32m    103\u001B[0m                                    order\u001B[38;5;241m=\u001B[39m\u001B[38;5;28mself\u001B[39m\u001B[38;5;241m.\u001B[39morder):\n\u001B[1;32m--> 104\u001B[0m         \u001B[43mpickler\u001B[49m\u001B[38;5;241;43m.\u001B[39;49m\u001B[43mfile_handle\u001B[49m\u001B[38;5;241;43m.\u001B[39;49m\u001B[43mwrite\u001B[49m\u001B[43m(\u001B[49m\u001B[43mchunk\u001B[49m\u001B[38;5;241;43m.\u001B[39;49m\u001B[43mtobytes\u001B[49m\u001B[43m(\u001B[49m\u001B[38;5;124;43m'\u001B[39;49m\u001B[38;5;124;43mC\u001B[39;49m\u001B[38;5;124;43m'\u001B[39;49m\u001B[43m)\u001B[49m\u001B[43m)\u001B[49m\n",
      "\u001B[1;31mOSError\u001B[0m: [Errno 28] No space left on device"
     ]
    }
   ],
   "source": [
    "import joblib\n",
    "\n",
    "# 1. Import necessary libraries and modules\n",
    "import pandas as pd\n",
    "from sklearn.metrics import accuracy_score, precision_score, recall_score, f1_score\n",
    "from sklearn.model_selection import train_test_split\n",
    "from sklearn.ensemble import ExtraTreesClassifier\n",
    "\n",
    "# 2. Load and preprocess data\n",
    "data = pd.read_csv('data/label_encoded_data.csv')\n",
    "X = data.drop('organizationId', axis=1)\n",
    "y = data['organizationId']\n",
    "\n",
    "# 3. Split the data into training and testing sets\n",
    "X_train, X_test, y_train, y_test = train_test_split(X, y, test_size=0.2, random_state=42)\n",
    "\n",
    "# 4. Define the model\n",
    "clf = ExtraTreesClassifier(max_depth=10)\n",
    "\n",
    "# 5. Train the model on the training data\n",
    "clf.fit(X_train, y_train)\n",
    "\n",
    "# 6. Evaluate the model on the testing data\n",
    "y_pred = clf.predict(X_test)\n",
    "accuracy = accuracy_score(y_test, y_pred)\n",
    "precision = precision_score(y_test, y_pred, average='macro', zero_division=1)\n",
    "recall = recall_score(y_test, y_pred, average='macro', zero_division=1)\n",
    "f1 = f1_score(y_test, y_pred, average='macro')\n",
    "\n",
    "# 7. Print the performance metrics\n",
    "print(\"Accuracy: {:.2f}\".format(accuracy))\n",
    "print(\"Precision: {:.2f}\".format(precision))\n",
    "print(\"Recall: {:.2f}\".format(recall))\n",
    "print(\"F1 Score: {:.2f}\".format(f1))\n",
    "\n",
    "joblib.dump(clf, 'trained_model_label.joblib')"
   ],
   "metadata": {
    "collapsed": false
   }
  },
  {
   "cell_type": "code",
   "execution_count": null,
   "outputs": [],
   "source": [],
   "metadata": {
    "collapsed": false
   }
  }
 ],
 "metadata": {
  "kernelspec": {
   "display_name": "Python 3",
   "language": "python",
   "name": "python3"
  },
  "language_info": {
   "codemirror_mode": {
    "name": "ipython",
    "version": 2
   },
   "file_extension": ".py",
   "mimetype": "text/x-python",
   "name": "python",
   "nbconvert_exporter": "python",
   "pygments_lexer": "ipython2",
   "version": "2.7.6"
  }
 },
 "nbformat": 4,
 "nbformat_minor": 0
}
