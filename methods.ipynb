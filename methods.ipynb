{
 "cells": [
  {
   "cell_type": "code",
   "execution_count": 3,
   "metadata": {
    "collapsed": true,
    "ExecuteTime": {
     "start_time": "2023-05-15T15:04:25.923369Z",
     "end_time": "2023-05-15T15:04:27.577647Z"
    }
   },
   "outputs": [
    {
     "data": {
      "text/plain": "       noticeNo  contractValue  title  publicationDate  countyCode  \\\n0         20022      133657.00  13374            14808          11   \n1         20025      151470.00  11992            14808          32   \n2         20024      850446.00  11063            14808          18   \n3         20020      720948.00  16517            14808          18   \n4         20009       28510.00  10109            14808          17   \n...         ...            ...    ...              ...         ...   \n20022       100      240631.20  11664               45          33   \n20023        62      238200.00  11565               40           3   \n20024        40       65000.00  15129               32          18   \n20025        44      963067.32   2030               30          19   \n20026        32      562000.00  15128               16          18   \n\n       contractingAuthorityName  cpvCodeName  cNoticeNo  \\\n0                           658          620      19983   \n1                          1431           85      19797   \n2                          1423          926      19987   \n3                          1423           47      20023   \n4                          1003          850      19869   \n...                         ...          ...        ...   \n20022                        85          855         74   \n20023                      1448          908        990   \n20024                       497          892        891   \n20025                      1006          824        656   \n20026                       497          892        894   \n\n       cNoticeEstimatedContractValue  cNoticePublicationDate  ...  \\\n0                          153780.00                   15826  ...   \n1                          152340.00                   15633  ...   \n2                          850446.12                   15830  ...   \n3                          720948.00                   15867  ...   \n4                           45000.00                   15719  ...   \n...                              ...                     ...  ...   \n20022                      301539.00                      73  ...   \n20023                      238200.00                     775  ...   \n20024                       65000.00                     702  ...   \n20025                     1801498.00                     553  ...   \n20026                      612000.00                     701  ...   \n\n       cpvCode_98310000-9  cpvCode_98312000-3  cpvCode_98341000-5  \\\n0                       0                   0                   0   \n1                       0                   0                   0   \n2                       0                   0                   0   \n3                       0                   0                   0   \n4                       0                   0                   0   \n...                   ...                 ...                 ...   \n20022                   0                   0                   0   \n20023                   0                   0                   0   \n20024                   0                   0                   0   \n20025                   0                   0                   0   \n20026                   0                   0                   0   \n\n       cpvCode_98341130-5  cpvCode_98351110-2  cpvCode_98363000-5  \\\n0                       0                   0                   0   \n1                       0                   0                   0   \n2                       0                   0                   0   \n3                       0                   0                   0   \n4                       0                   0                   0   \n...                   ...                 ...                 ...   \n20022                   0                   0                   0   \n20023                   0                   0                   0   \n20024                   0                   0                   0   \n20025                   0                   0                   0   \n20026                   0                   0                   0   \n\n       cpvCode_98371120-1  cpvCode_98392000-7  cpvCode_98393000-4  \\\n0                       0                   0                   0   \n1                       0                   0                   0   \n2                       0                   0                   0   \n3                       0                   0                   0   \n4                       0                   0                   0   \n...                   ...                 ...                 ...   \n20022                   0                   0                   0   \n20023                   0                   0                   0   \n20024                   0                   0                   0   \n20025                   0                   0                   0   \n20026                   0                   0                   0   \n\n       cpvCode_98395000-8  \n0                       0  \n1                       0  \n2                       0  \n3                       0  \n4                       0  \n...                   ...  \n20022                   0  \n20023                   0  \n20024                   0  \n20025                   0  \n20026                   0  \n\n[20027 rows x 1121 columns]",
      "text/html": "<div>\n<style scoped>\n    .dataframe tbody tr th:only-of-type {\n        vertical-align: middle;\n    }\n\n    .dataframe tbody tr th {\n        vertical-align: top;\n    }\n\n    .dataframe thead th {\n        text-align: right;\n    }\n</style>\n<table border=\"1\" class=\"dataframe\">\n  <thead>\n    <tr style=\"text-align: right;\">\n      <th></th>\n      <th>noticeNo</th>\n      <th>contractValue</th>\n      <th>title</th>\n      <th>publicationDate</th>\n      <th>countyCode</th>\n      <th>contractingAuthorityName</th>\n      <th>cpvCodeName</th>\n      <th>cNoticeNo</th>\n      <th>cNoticeEstimatedContractValue</th>\n      <th>cNoticePublicationDate</th>\n      <th>...</th>\n      <th>cpvCode_98310000-9</th>\n      <th>cpvCode_98312000-3</th>\n      <th>cpvCode_98341000-5</th>\n      <th>cpvCode_98341130-5</th>\n      <th>cpvCode_98351110-2</th>\n      <th>cpvCode_98363000-5</th>\n      <th>cpvCode_98371120-1</th>\n      <th>cpvCode_98392000-7</th>\n      <th>cpvCode_98393000-4</th>\n      <th>cpvCode_98395000-8</th>\n    </tr>\n  </thead>\n  <tbody>\n    <tr>\n      <th>0</th>\n      <td>20022</td>\n      <td>133657.00</td>\n      <td>13374</td>\n      <td>14808</td>\n      <td>11</td>\n      <td>658</td>\n      <td>620</td>\n      <td>19983</td>\n      <td>153780.00</td>\n      <td>15826</td>\n      <td>...</td>\n      <td>0</td>\n      <td>0</td>\n      <td>0</td>\n      <td>0</td>\n      <td>0</td>\n      <td>0</td>\n      <td>0</td>\n      <td>0</td>\n      <td>0</td>\n      <td>0</td>\n    </tr>\n    <tr>\n      <th>1</th>\n      <td>20025</td>\n      <td>151470.00</td>\n      <td>11992</td>\n      <td>14808</td>\n      <td>32</td>\n      <td>1431</td>\n      <td>85</td>\n      <td>19797</td>\n      <td>152340.00</td>\n      <td>15633</td>\n      <td>...</td>\n      <td>0</td>\n      <td>0</td>\n      <td>0</td>\n      <td>0</td>\n      <td>0</td>\n      <td>0</td>\n      <td>0</td>\n      <td>0</td>\n      <td>0</td>\n      <td>0</td>\n    </tr>\n    <tr>\n      <th>2</th>\n      <td>20024</td>\n      <td>850446.00</td>\n      <td>11063</td>\n      <td>14808</td>\n      <td>18</td>\n      <td>1423</td>\n      <td>926</td>\n      <td>19987</td>\n      <td>850446.12</td>\n      <td>15830</td>\n      <td>...</td>\n      <td>0</td>\n      <td>0</td>\n      <td>0</td>\n      <td>0</td>\n      <td>0</td>\n      <td>0</td>\n      <td>0</td>\n      <td>0</td>\n      <td>0</td>\n      <td>0</td>\n    </tr>\n    <tr>\n      <th>3</th>\n      <td>20020</td>\n      <td>720948.00</td>\n      <td>16517</td>\n      <td>14808</td>\n      <td>18</td>\n      <td>1423</td>\n      <td>47</td>\n      <td>20023</td>\n      <td>720948.00</td>\n      <td>15867</td>\n      <td>...</td>\n      <td>0</td>\n      <td>0</td>\n      <td>0</td>\n      <td>0</td>\n      <td>0</td>\n      <td>0</td>\n      <td>0</td>\n      <td>0</td>\n      <td>0</td>\n      <td>0</td>\n    </tr>\n    <tr>\n      <th>4</th>\n      <td>20009</td>\n      <td>28510.00</td>\n      <td>10109</td>\n      <td>14808</td>\n      <td>17</td>\n      <td>1003</td>\n      <td>850</td>\n      <td>19869</td>\n      <td>45000.00</td>\n      <td>15719</td>\n      <td>...</td>\n      <td>0</td>\n      <td>0</td>\n      <td>0</td>\n      <td>0</td>\n      <td>0</td>\n      <td>0</td>\n      <td>0</td>\n      <td>0</td>\n      <td>0</td>\n      <td>0</td>\n    </tr>\n    <tr>\n      <th>...</th>\n      <td>...</td>\n      <td>...</td>\n      <td>...</td>\n      <td>...</td>\n      <td>...</td>\n      <td>...</td>\n      <td>...</td>\n      <td>...</td>\n      <td>...</td>\n      <td>...</td>\n      <td>...</td>\n      <td>...</td>\n      <td>...</td>\n      <td>...</td>\n      <td>...</td>\n      <td>...</td>\n      <td>...</td>\n      <td>...</td>\n      <td>...</td>\n      <td>...</td>\n      <td>...</td>\n    </tr>\n    <tr>\n      <th>20022</th>\n      <td>100</td>\n      <td>240631.20</td>\n      <td>11664</td>\n      <td>45</td>\n      <td>33</td>\n      <td>85</td>\n      <td>855</td>\n      <td>74</td>\n      <td>301539.00</td>\n      <td>73</td>\n      <td>...</td>\n      <td>0</td>\n      <td>0</td>\n      <td>0</td>\n      <td>0</td>\n      <td>0</td>\n      <td>0</td>\n      <td>0</td>\n      <td>0</td>\n      <td>0</td>\n      <td>0</td>\n    </tr>\n    <tr>\n      <th>20023</th>\n      <td>62</td>\n      <td>238200.00</td>\n      <td>11565</td>\n      <td>40</td>\n      <td>3</td>\n      <td>1448</td>\n      <td>908</td>\n      <td>990</td>\n      <td>238200.00</td>\n      <td>775</td>\n      <td>...</td>\n      <td>0</td>\n      <td>0</td>\n      <td>0</td>\n      <td>0</td>\n      <td>0</td>\n      <td>0</td>\n      <td>0</td>\n      <td>0</td>\n      <td>0</td>\n      <td>0</td>\n    </tr>\n    <tr>\n      <th>20024</th>\n      <td>40</td>\n      <td>65000.00</td>\n      <td>15129</td>\n      <td>32</td>\n      <td>18</td>\n      <td>497</td>\n      <td>892</td>\n      <td>891</td>\n      <td>65000.00</td>\n      <td>702</td>\n      <td>...</td>\n      <td>0</td>\n      <td>0</td>\n      <td>0</td>\n      <td>0</td>\n      <td>0</td>\n      <td>0</td>\n      <td>0</td>\n      <td>0</td>\n      <td>0</td>\n      <td>0</td>\n    </tr>\n    <tr>\n      <th>20025</th>\n      <td>44</td>\n      <td>963067.32</td>\n      <td>2030</td>\n      <td>30</td>\n      <td>19</td>\n      <td>1006</td>\n      <td>824</td>\n      <td>656</td>\n      <td>1801498.00</td>\n      <td>553</td>\n      <td>...</td>\n      <td>0</td>\n      <td>0</td>\n      <td>0</td>\n      <td>0</td>\n      <td>0</td>\n      <td>0</td>\n      <td>0</td>\n      <td>0</td>\n      <td>0</td>\n      <td>0</td>\n    </tr>\n    <tr>\n      <th>20026</th>\n      <td>32</td>\n      <td>562000.00</td>\n      <td>15128</td>\n      <td>16</td>\n      <td>18</td>\n      <td>497</td>\n      <td>892</td>\n      <td>894</td>\n      <td>612000.00</td>\n      <td>701</td>\n      <td>...</td>\n      <td>0</td>\n      <td>0</td>\n      <td>0</td>\n      <td>0</td>\n      <td>0</td>\n      <td>0</td>\n      <td>0</td>\n      <td>0</td>\n      <td>0</td>\n      <td>0</td>\n    </tr>\n  </tbody>\n</table>\n<p>20027 rows × 1121 columns</p>\n</div>"
     },
     "execution_count": 3,
     "metadata": {},
     "output_type": "execute_result"
    }
   ],
   "source": [
    "import pandas as pd\n",
    "\n",
    "data = pd.read_csv('data/best_encoded_data.csv')\n",
    "data"
   ]
  },
  {
   "cell_type": "code",
   "execution_count": 2,
   "outputs": [
    {
     "name": "stdout",
     "output_type": "stream",
     "text": [
      "Accuracy: 0.13\n",
      "Precision: 0.51\n",
      "Recall: 0.41\n",
      "F1 Score: 0.05\n"
     ]
    }
   ],
   "source": [
    "# 1. Import necessary libraries and modules\n",
    "import pandas as pd\n",
    "from sklearn.metrics import accuracy_score, precision_score, recall_score, f1_score\n",
    "from sklearn.model_selection import train_test_split\n",
    "from sklearn.tree import DecisionTreeClassifier\n",
    "\n",
    "# 2. Load and preprocess data\n",
    "\n",
    "data = pd.read_csv('data/best_encoded_data.csv')\n",
    "X = data.drop('organizationId', axis=1)\n",
    "y = data['organizationId']\n",
    "\n",
    "# 3. Split the data into training and testing sets\n",
    "X_train, X_test, y_train, y_test = train_test_split(X, y, test_size=0.2, random_state=42)\n",
    "\n",
    "# 4. Define the model\n",
    "clf = DecisionTreeClassifier(random_state=42)\n",
    "\n",
    "# 5. Train the model on the training data\n",
    "clf.fit(X_train, y_train)\n",
    "\n",
    "# 6. Evaluate the model on the testing data\n",
    "y_pred = clf.predict(X_test)\n",
    "accuracy = accuracy_score(y_test, y_pred)\n",
    "precision = precision_score(y_test, y_pred, average='macro', zero_division=1)\n",
    "recall = recall_score(y_test, y_pred, average='macro', zero_division=1)\n",
    "f1 = f1_score(y_test, y_pred, average='macro')\n",
    "\n",
    "# 7. Print the performance metrics\n",
    "print(\"Accuracy: {:.2f}\".format(accuracy))\n",
    "print(\"Precision: {:.2f}\".format(precision))\n",
    "print(\"Recall: {:.2f}\".format(recall))\n",
    "print(\"F1 Score: {:.2f}\".format(f1))"
   ],
   "metadata": {
    "collapsed": false
   }
  },
  {
   "cell_type": "code",
   "execution_count": 4,
   "outputs": [
    {
     "name": "stdout",
     "output_type": "stream",
     "text": [
      "Accuracy: 0.01\n",
      "Precision: 1.00\n",
      "Recall: 0.00\n",
      "F1 Score: 0.00\n"
     ]
    }
   ],
   "source": [
    "# 1. Import necessary libraries and modules\n",
    "import pandas as pd\n",
    "from sklearn.metrics import accuracy_score, precision_score, recall_score, f1_score\n",
    "from sklearn.model_selection import train_test_split\n",
    "from sklearn.svm import SVC\n",
    "\n",
    "# 2. Load and preprocess data\n",
    "data = pd.read_csv('data/best_encoded_data.csv')\n",
    "X = data.drop('organizationId', axis=1)\n",
    "y = data['organizationId']\n",
    "\n",
    "# 3. Split the data into training and testing sets\n",
    "X_train, X_test, y_train, y_test = train_test_split(X, y, test_size=0.2, random_state=42)\n",
    "\n",
    "# 4. Define the model\n",
    "clf = SVC(random_state=42)\n",
    "\n",
    "# 5. Train the model on the training data\n",
    "clf.fit(X_train, y_train)\n",
    "\n",
    "# 6. Evaluate the model on the testing data\n",
    "y_pred = clf.predict(X_test)\n",
    "accuracy = accuracy_score(y_test, y_pred)\n",
    "precision = precision_score(y_test, y_pred, average='macro', zero_division=1)\n",
    "recall = recall_score(y_test, y_pred, average='macro', zero_division=1)\n",
    "f1 = f1_score(y_test, y_pred, average='macro')\n",
    "\n",
    "# 7. Print the performance metrics\n",
    "print(\"Accuracy: {:.2f}\".format(accuracy))\n",
    "print(\"Precision: {:.2f}\".format(precision))\n",
    "print(\"Recall: {:.2f}\".format(recall))\n",
    "print(\"F1 Score: {:.2f}\".format(f1))"
   ],
   "metadata": {
    "collapsed": false
   }
  },
  {
   "cell_type": "code",
   "execution_count": null,
   "outputs": [
    {
     "name": "stderr",
     "output_type": "stream",
     "text": [
      "C:\\Users\\Iasmina\\anaconda3\\envs\\thesis\\lib\\site-packages\\sklearn\\model_selection\\_split.py:700: UserWarning: The least populated class in y has only 1 members, which is less than n_splits=5.\n",
      "  warnings.warn(\n"
     ]
    }
   ],
   "source": [
    "import pandas as pd\n",
    "from sklearn.metrics import accuracy_score, precision_score, recall_score, f1_score\n",
    "from sklearn.model_selection import train_test_split\n",
    "from sklearn.svm import SVC\n",
    "from sklearn.preprocessing import StandardScaler\n",
    "from sklearn.model_selection import GridSearchCV\n",
    "\n",
    "# Load and preprocess data\n",
    "data = pd.read_csv('data/best_encoded_data.csv')\n",
    "X = data.drop('organizationId', axis=1)\n",
    "y = data['organizationId']\n",
    "\n",
    "# Scale the features\n",
    "scaler = StandardScaler()\n",
    "X_scaled = scaler.fit_transform(X)\n",
    "\n",
    "# Split the data into training and testing sets\n",
    "X_train, X_test, y_train, y_test = train_test_split(X_scaled, y, test_size=0.2, random_state=42)\n",
    "\n",
    "# Define the model\n",
    "clf = SVC(random_state=42, class_weight='balanced')\n",
    "\n",
    "# Hyperparameter tuning\n",
    "param_grid = {'C': [0.1, 1, 10],\n",
    "              'gamma': [0.1, 0.01, 0.001]}\n",
    "grid_search = GridSearchCV(clf, param_grid, cv=5)\n",
    "grid_search.fit(X_train, y_train)\n",
    "\n",
    "# Retrieve the best parameters and retrain the model\n",
    "best_params = grid_search.best_params_\n",
    "clf = SVC(random_state=42, **best_params)\n",
    "clf.fit(X_train, y_train)\n",
    "\n",
    "# Evaluate the model on the testing data\n",
    "y_pred = clf.predict(X_test)\n",
    "accuracy = accuracy_score(y_test, y_pred)\n",
    "precision = precision_score(y_test, y_pred, average='weighted', zero_division=1)\n",
    "recall = recall_score(y_test, y_pred, average='weighted', zero_division=1)\n",
    "f1 = f1_score(y_test, y_pred, average='weighted')\n",
    "\n",
    "# Print the performance metrics\n",
    "print(\"Accuracy: {:.2f}\".format(accuracy))\n",
    "print(\"Precision: {:.2f}\".format(precision))\n",
    "print(\"Recall: {:.2f}\".format(recall))\n",
    "print(\"F1 Score: {:.2f}\".format(f1))"
   ],
   "metadata": {
    "collapsed": false,
    "pycharm": {
     "is_executing": true
    }
   }
  },
  {
   "cell_type": "code",
   "execution_count": null,
   "outputs": [],
   "source": [],
   "metadata": {
    "collapsed": false
   }
  }
 ],
 "metadata": {
  "kernelspec": {
   "display_name": "Python 3",
   "language": "python",
   "name": "python3"
  },
  "language_info": {
   "codemirror_mode": {
    "name": "ipython",
    "version": 2
   },
   "file_extension": ".py",
   "mimetype": "text/x-python",
   "name": "python",
   "nbconvert_exporter": "python",
   "pygments_lexer": "ipython2",
   "version": "2.7.6"
  }
 },
 "nbformat": 4,
 "nbformat_minor": 0
}
